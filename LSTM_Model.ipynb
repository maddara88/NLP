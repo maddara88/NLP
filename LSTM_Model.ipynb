{
  "nbformat": 4,
  "nbformat_minor": 0,
  "metadata": {
    "colab": {
      "provenance": [],
      "authorship_tag": "ABX9TyNz49uKwRISFZYmS8TzY7Ib",
      "include_colab_link": true
    },
    "kernelspec": {
      "name": "python3",
      "display_name": "Python 3"
    },
    "language_info": {
      "name": "python"
    }
  },
  "cells": [
    {
      "cell_type": "markdown",
      "metadata": {
        "id": "view-in-github",
        "colab_type": "text"
      },
      "source": [
        "<a href=\"https://colab.research.google.com/github/maddara88/NLP/blob/main/LSTM_Model.ipynb\" target=\"_parent\"><img src=\"https://colab.research.google.com/assets/colab-badge.svg\" alt=\"Open In Colab\"/></a>"
      ]
    },
    {
      "cell_type": "code",
      "execution_count": 1,
      "metadata": {
        "id": "toWdrJ5ZHiB-"
      },
      "outputs": [],
      "source": [
        "import spacy"
      ]
    },
    {
      "cell_type": "code",
      "source": [
        "spacy.cli.download(\"en_core_web_sm\")"
      ],
      "metadata": {
        "colab": {
          "base_uri": "https://localhost:8080/"
        },
        "id": "4QF8ln2bHxVn",
        "outputId": "aee071fe-7566-42e4-8e0b-10d67e556e76"
      },
      "execution_count": 2,
      "outputs": [
        {
          "output_type": "stream",
          "name": "stdout",
          "text": [
            "\u001b[38;5;2m✔ Download and installation successful\u001b[0m\n",
            "You can now load the package via spacy.load('en_core_web_sm')\n"
          ]
        }
      ]
    },
    {
      "cell_type": "code",
      "source": [
        "nlp = spacy.load(\"en_core_web_sm\")"
      ],
      "metadata": {
        "id": "3wpM4LIMH6lX"
      },
      "execution_count": 3,
      "outputs": []
    },
    {
      "cell_type": "code",
      "source": [
        "doc = nlp(\"sam is a wonderful guy and he is a boxer. And he lives in India\")"
      ],
      "metadata": {
        "id": "1DGeBYFfH_7L"
      },
      "execution_count": 4,
      "outputs": []
    },
    {
      "cell_type": "code",
      "source": [
        "for ent in doc.ents:\n",
        "  print(f\"{ent.text}, {ent.label_}\")"
      ],
      "metadata": {
        "colab": {
          "base_uri": "https://localhost:8080/"
        },
        "id": "4-WylSkAIIGk",
        "outputId": "241722d4-ecf1-4928-abc7-e7487a34e386"
      },
      "execution_count": 5,
      "outputs": [
        {
          "output_type": "stream",
          "name": "stdout",
          "text": [
            "sam, PERSON\n",
            "India, GPE\n"
          ]
        }
      ]
    },
    {
      "cell_type": "code",
      "source": [
        "for word in doc:\n",
        "  print(f\"{word.text}, {word.pos_}\")"
      ],
      "metadata": {
        "colab": {
          "base_uri": "https://localhost:8080/"
        },
        "id": "D5-ZoR5zIcue",
        "outputId": "6a700623-8e1e-47b9-ee45-6c9e731f7a5b"
      },
      "execution_count": 6,
      "outputs": [
        {
          "output_type": "stream",
          "name": "stdout",
          "text": [
            "sam, PROPN\n",
            "is, AUX\n",
            "a, DET\n",
            "wonderful, ADJ\n",
            "guy, NOUN\n",
            "and, CCONJ\n",
            "he, PRON\n",
            "is, AUX\n",
            "a, DET\n",
            "boxer, NOUN\n",
            "., PUNCT\n",
            "And, CCONJ\n",
            "he, PRON\n",
            "lives, VERB\n",
            "in, ADP\n",
            "India, PROPN\n"
          ]
        }
      ]
    },
    {
      "cell_type": "code",
      "source": [
        "spacy.displacy.render(doc,style = \"dep\",jupyter = True)"
      ],
      "metadata": {
        "colab": {
          "base_uri": "https://localhost:8080/",
          "height": 616
        },
        "id": "9WwdvkK3JJ4d",
        "outputId": "7fd26448-474a-462c-9808-48f3c86bd481"
      },
      "execution_count": 7,
      "outputs": [
        {
          "output_type": "display_data",
          "data": {
            "text/plain": [
              "<IPython.core.display.HTML object>"
            ],
            "text/html": [
              "<span class=\"tex2jax_ignore\"><svg xmlns=\"http://www.w3.org/2000/svg\" xmlns:xlink=\"http://www.w3.org/1999/xlink\" xml:lang=\"en\" id=\"c0825c7317164c0f8da3a3cc67c5532d-0\" class=\"displacy\" width=\"2675\" height=\"574.5\" direction=\"ltr\" style=\"max-width: none; height: 574.5px; color: #000000; background: #ffffff; font-family: Arial; direction: ltr\">\n",
              "<text class=\"displacy-token\" fill=\"currentColor\" text-anchor=\"middle\" y=\"484.5\">\n",
              "    <tspan class=\"displacy-word\" fill=\"currentColor\" x=\"50\">sam</tspan>\n",
              "    <tspan class=\"displacy-tag\" dy=\"2em\" fill=\"currentColor\" x=\"50\">PROPN</tspan>\n",
              "</text>\n",
              "\n",
              "<text class=\"displacy-token\" fill=\"currentColor\" text-anchor=\"middle\" y=\"484.5\">\n",
              "    <tspan class=\"displacy-word\" fill=\"currentColor\" x=\"225\">is</tspan>\n",
              "    <tspan class=\"displacy-tag\" dy=\"2em\" fill=\"currentColor\" x=\"225\">AUX</tspan>\n",
              "</text>\n",
              "\n",
              "<text class=\"displacy-token\" fill=\"currentColor\" text-anchor=\"middle\" y=\"484.5\">\n",
              "    <tspan class=\"displacy-word\" fill=\"currentColor\" x=\"400\">a</tspan>\n",
              "    <tspan class=\"displacy-tag\" dy=\"2em\" fill=\"currentColor\" x=\"400\">DET</tspan>\n",
              "</text>\n",
              "\n",
              "<text class=\"displacy-token\" fill=\"currentColor\" text-anchor=\"middle\" y=\"484.5\">\n",
              "    <tspan class=\"displacy-word\" fill=\"currentColor\" x=\"575\">wonderful</tspan>\n",
              "    <tspan class=\"displacy-tag\" dy=\"2em\" fill=\"currentColor\" x=\"575\">ADJ</tspan>\n",
              "</text>\n",
              "\n",
              "<text class=\"displacy-token\" fill=\"currentColor\" text-anchor=\"middle\" y=\"484.5\">\n",
              "    <tspan class=\"displacy-word\" fill=\"currentColor\" x=\"750\">guy</tspan>\n",
              "    <tspan class=\"displacy-tag\" dy=\"2em\" fill=\"currentColor\" x=\"750\">NOUN</tspan>\n",
              "</text>\n",
              "\n",
              "<text class=\"displacy-token\" fill=\"currentColor\" text-anchor=\"middle\" y=\"484.5\">\n",
              "    <tspan class=\"displacy-word\" fill=\"currentColor\" x=\"925\">and</tspan>\n",
              "    <tspan class=\"displacy-tag\" dy=\"2em\" fill=\"currentColor\" x=\"925\">CCONJ</tspan>\n",
              "</text>\n",
              "\n",
              "<text class=\"displacy-token\" fill=\"currentColor\" text-anchor=\"middle\" y=\"484.5\">\n",
              "    <tspan class=\"displacy-word\" fill=\"currentColor\" x=\"1100\">he</tspan>\n",
              "    <tspan class=\"displacy-tag\" dy=\"2em\" fill=\"currentColor\" x=\"1100\">PRON</tspan>\n",
              "</text>\n",
              "\n",
              "<text class=\"displacy-token\" fill=\"currentColor\" text-anchor=\"middle\" y=\"484.5\">\n",
              "    <tspan class=\"displacy-word\" fill=\"currentColor\" x=\"1275\">is</tspan>\n",
              "    <tspan class=\"displacy-tag\" dy=\"2em\" fill=\"currentColor\" x=\"1275\">AUX</tspan>\n",
              "</text>\n",
              "\n",
              "<text class=\"displacy-token\" fill=\"currentColor\" text-anchor=\"middle\" y=\"484.5\">\n",
              "    <tspan class=\"displacy-word\" fill=\"currentColor\" x=\"1450\">a</tspan>\n",
              "    <tspan class=\"displacy-tag\" dy=\"2em\" fill=\"currentColor\" x=\"1450\">DET</tspan>\n",
              "</text>\n",
              "\n",
              "<text class=\"displacy-token\" fill=\"currentColor\" text-anchor=\"middle\" y=\"484.5\">\n",
              "    <tspan class=\"displacy-word\" fill=\"currentColor\" x=\"1625\">boxer.</tspan>\n",
              "    <tspan class=\"displacy-tag\" dy=\"2em\" fill=\"currentColor\" x=\"1625\">NOUN</tspan>\n",
              "</text>\n",
              "\n",
              "<text class=\"displacy-token\" fill=\"currentColor\" text-anchor=\"middle\" y=\"484.5\">\n",
              "    <tspan class=\"displacy-word\" fill=\"currentColor\" x=\"1800\">And</tspan>\n",
              "    <tspan class=\"displacy-tag\" dy=\"2em\" fill=\"currentColor\" x=\"1800\">CCONJ</tspan>\n",
              "</text>\n",
              "\n",
              "<text class=\"displacy-token\" fill=\"currentColor\" text-anchor=\"middle\" y=\"484.5\">\n",
              "    <tspan class=\"displacy-word\" fill=\"currentColor\" x=\"1975\">he</tspan>\n",
              "    <tspan class=\"displacy-tag\" dy=\"2em\" fill=\"currentColor\" x=\"1975\">PRON</tspan>\n",
              "</text>\n",
              "\n",
              "<text class=\"displacy-token\" fill=\"currentColor\" text-anchor=\"middle\" y=\"484.5\">\n",
              "    <tspan class=\"displacy-word\" fill=\"currentColor\" x=\"2150\">lives</tspan>\n",
              "    <tspan class=\"displacy-tag\" dy=\"2em\" fill=\"currentColor\" x=\"2150\">VERB</tspan>\n",
              "</text>\n",
              "\n",
              "<text class=\"displacy-token\" fill=\"currentColor\" text-anchor=\"middle\" y=\"484.5\">\n",
              "    <tspan class=\"displacy-word\" fill=\"currentColor\" x=\"2325\">in</tspan>\n",
              "    <tspan class=\"displacy-tag\" dy=\"2em\" fill=\"currentColor\" x=\"2325\">ADP</tspan>\n",
              "</text>\n",
              "\n",
              "<text class=\"displacy-token\" fill=\"currentColor\" text-anchor=\"middle\" y=\"484.5\">\n",
              "    <tspan class=\"displacy-word\" fill=\"currentColor\" x=\"2500\">India</tspan>\n",
              "    <tspan class=\"displacy-tag\" dy=\"2em\" fill=\"currentColor\" x=\"2500\">PROPN</tspan>\n",
              "</text>\n",
              "\n",
              "<g class=\"displacy-arrow\">\n",
              "    <path class=\"displacy-arc\" id=\"arrow-c0825c7317164c0f8da3a3cc67c5532d-0-0\" stroke-width=\"2px\" d=\"M70,439.5 C70,352.0 205.0,352.0 205.0,439.5\" fill=\"none\" stroke=\"currentColor\"/>\n",
              "    <text dy=\"1.25em\" style=\"font-size: 0.8em; letter-spacing: 1px\">\n",
              "        <textPath xlink:href=\"#arrow-c0825c7317164c0f8da3a3cc67c5532d-0-0\" class=\"displacy-label\" startOffset=\"50%\" side=\"left\" fill=\"currentColor\" text-anchor=\"middle\">nsubj</textPath>\n",
              "    </text>\n",
              "    <path class=\"displacy-arrowhead\" d=\"M70,441.5 L62,429.5 78,429.5\" fill=\"currentColor\"/>\n",
              "</g>\n",
              "\n",
              "<g class=\"displacy-arrow\">\n",
              "    <path class=\"displacy-arc\" id=\"arrow-c0825c7317164c0f8da3a3cc67c5532d-0-1\" stroke-width=\"2px\" d=\"M420,439.5 C420,264.5 735.0,264.5 735.0,439.5\" fill=\"none\" stroke=\"currentColor\"/>\n",
              "    <text dy=\"1.25em\" style=\"font-size: 0.8em; letter-spacing: 1px\">\n",
              "        <textPath xlink:href=\"#arrow-c0825c7317164c0f8da3a3cc67c5532d-0-1\" class=\"displacy-label\" startOffset=\"50%\" side=\"left\" fill=\"currentColor\" text-anchor=\"middle\">det</textPath>\n",
              "    </text>\n",
              "    <path class=\"displacy-arrowhead\" d=\"M420,441.5 L412,429.5 428,429.5\" fill=\"currentColor\"/>\n",
              "</g>\n",
              "\n",
              "<g class=\"displacy-arrow\">\n",
              "    <path class=\"displacy-arc\" id=\"arrow-c0825c7317164c0f8da3a3cc67c5532d-0-2\" stroke-width=\"2px\" d=\"M595,439.5 C595,352.0 730.0,352.0 730.0,439.5\" fill=\"none\" stroke=\"currentColor\"/>\n",
              "    <text dy=\"1.25em\" style=\"font-size: 0.8em; letter-spacing: 1px\">\n",
              "        <textPath xlink:href=\"#arrow-c0825c7317164c0f8da3a3cc67c5532d-0-2\" class=\"displacy-label\" startOffset=\"50%\" side=\"left\" fill=\"currentColor\" text-anchor=\"middle\">amod</textPath>\n",
              "    </text>\n",
              "    <path class=\"displacy-arrowhead\" d=\"M595,441.5 L587,429.5 603,429.5\" fill=\"currentColor\"/>\n",
              "</g>\n",
              "\n",
              "<g class=\"displacy-arrow\">\n",
              "    <path class=\"displacy-arc\" id=\"arrow-c0825c7317164c0f8da3a3cc67c5532d-0-3\" stroke-width=\"2px\" d=\"M245,439.5 C245,177.0 740.0,177.0 740.0,439.5\" fill=\"none\" stroke=\"currentColor\"/>\n",
              "    <text dy=\"1.25em\" style=\"font-size: 0.8em; letter-spacing: 1px\">\n",
              "        <textPath xlink:href=\"#arrow-c0825c7317164c0f8da3a3cc67c5532d-0-3\" class=\"displacy-label\" startOffset=\"50%\" side=\"left\" fill=\"currentColor\" text-anchor=\"middle\">attr</textPath>\n",
              "    </text>\n",
              "    <path class=\"displacy-arrowhead\" d=\"M740.0,441.5 L748.0,429.5 732.0,429.5\" fill=\"currentColor\"/>\n",
              "</g>\n",
              "\n",
              "<g class=\"displacy-arrow\">\n",
              "    <path class=\"displacy-arc\" id=\"arrow-c0825c7317164c0f8da3a3cc67c5532d-0-4\" stroke-width=\"2px\" d=\"M245,439.5 C245,89.5 920.0,89.5 920.0,439.5\" fill=\"none\" stroke=\"currentColor\"/>\n",
              "    <text dy=\"1.25em\" style=\"font-size: 0.8em; letter-spacing: 1px\">\n",
              "        <textPath xlink:href=\"#arrow-c0825c7317164c0f8da3a3cc67c5532d-0-4\" class=\"displacy-label\" startOffset=\"50%\" side=\"left\" fill=\"currentColor\" text-anchor=\"middle\">cc</textPath>\n",
              "    </text>\n",
              "    <path class=\"displacy-arrowhead\" d=\"M920.0,441.5 L928.0,429.5 912.0,429.5\" fill=\"currentColor\"/>\n",
              "</g>\n",
              "\n",
              "<g class=\"displacy-arrow\">\n",
              "    <path class=\"displacy-arc\" id=\"arrow-c0825c7317164c0f8da3a3cc67c5532d-0-5\" stroke-width=\"2px\" d=\"M1120,439.5 C1120,352.0 1255.0,352.0 1255.0,439.5\" fill=\"none\" stroke=\"currentColor\"/>\n",
              "    <text dy=\"1.25em\" style=\"font-size: 0.8em; letter-spacing: 1px\">\n",
              "        <textPath xlink:href=\"#arrow-c0825c7317164c0f8da3a3cc67c5532d-0-5\" class=\"displacy-label\" startOffset=\"50%\" side=\"left\" fill=\"currentColor\" text-anchor=\"middle\">nsubj</textPath>\n",
              "    </text>\n",
              "    <path class=\"displacy-arrowhead\" d=\"M1120,441.5 L1112,429.5 1128,429.5\" fill=\"currentColor\"/>\n",
              "</g>\n",
              "\n",
              "<g class=\"displacy-arrow\">\n",
              "    <path class=\"displacy-arc\" id=\"arrow-c0825c7317164c0f8da3a3cc67c5532d-0-6\" stroke-width=\"2px\" d=\"M245,439.5 C245,2.0 1275.0,2.0 1275.0,439.5\" fill=\"none\" stroke=\"currentColor\"/>\n",
              "    <text dy=\"1.25em\" style=\"font-size: 0.8em; letter-spacing: 1px\">\n",
              "        <textPath xlink:href=\"#arrow-c0825c7317164c0f8da3a3cc67c5532d-0-6\" class=\"displacy-label\" startOffset=\"50%\" side=\"left\" fill=\"currentColor\" text-anchor=\"middle\">conj</textPath>\n",
              "    </text>\n",
              "    <path class=\"displacy-arrowhead\" d=\"M1275.0,441.5 L1283.0,429.5 1267.0,429.5\" fill=\"currentColor\"/>\n",
              "</g>\n",
              "\n",
              "<g class=\"displacy-arrow\">\n",
              "    <path class=\"displacy-arc\" id=\"arrow-c0825c7317164c0f8da3a3cc67c5532d-0-7\" stroke-width=\"2px\" d=\"M1470,439.5 C1470,352.0 1605.0,352.0 1605.0,439.5\" fill=\"none\" stroke=\"currentColor\"/>\n",
              "    <text dy=\"1.25em\" style=\"font-size: 0.8em; letter-spacing: 1px\">\n",
              "        <textPath xlink:href=\"#arrow-c0825c7317164c0f8da3a3cc67c5532d-0-7\" class=\"displacy-label\" startOffset=\"50%\" side=\"left\" fill=\"currentColor\" text-anchor=\"middle\">det</textPath>\n",
              "    </text>\n",
              "    <path class=\"displacy-arrowhead\" d=\"M1470,441.5 L1462,429.5 1478,429.5\" fill=\"currentColor\"/>\n",
              "</g>\n",
              "\n",
              "<g class=\"displacy-arrow\">\n",
              "    <path class=\"displacy-arc\" id=\"arrow-c0825c7317164c0f8da3a3cc67c5532d-0-8\" stroke-width=\"2px\" d=\"M1295,439.5 C1295,264.5 1610.0,264.5 1610.0,439.5\" fill=\"none\" stroke=\"currentColor\"/>\n",
              "    <text dy=\"1.25em\" style=\"font-size: 0.8em; letter-spacing: 1px\">\n",
              "        <textPath xlink:href=\"#arrow-c0825c7317164c0f8da3a3cc67c5532d-0-8\" class=\"displacy-label\" startOffset=\"50%\" side=\"left\" fill=\"currentColor\" text-anchor=\"middle\">attr</textPath>\n",
              "    </text>\n",
              "    <path class=\"displacy-arrowhead\" d=\"M1610.0,441.5 L1618.0,429.5 1602.0,429.5\" fill=\"currentColor\"/>\n",
              "</g>\n",
              "\n",
              "<g class=\"displacy-arrow\">\n",
              "    <path class=\"displacy-arc\" id=\"arrow-c0825c7317164c0f8da3a3cc67c5532d-0-9\" stroke-width=\"2px\" d=\"M1820,439.5 C1820,264.5 2135.0,264.5 2135.0,439.5\" fill=\"none\" stroke=\"currentColor\"/>\n",
              "    <text dy=\"1.25em\" style=\"font-size: 0.8em; letter-spacing: 1px\">\n",
              "        <textPath xlink:href=\"#arrow-c0825c7317164c0f8da3a3cc67c5532d-0-9\" class=\"displacy-label\" startOffset=\"50%\" side=\"left\" fill=\"currentColor\" text-anchor=\"middle\">cc</textPath>\n",
              "    </text>\n",
              "    <path class=\"displacy-arrowhead\" d=\"M1820,441.5 L1812,429.5 1828,429.5\" fill=\"currentColor\"/>\n",
              "</g>\n",
              "\n",
              "<g class=\"displacy-arrow\">\n",
              "    <path class=\"displacy-arc\" id=\"arrow-c0825c7317164c0f8da3a3cc67c5532d-0-10\" stroke-width=\"2px\" d=\"M1995,439.5 C1995,352.0 2130.0,352.0 2130.0,439.5\" fill=\"none\" stroke=\"currentColor\"/>\n",
              "    <text dy=\"1.25em\" style=\"font-size: 0.8em; letter-spacing: 1px\">\n",
              "        <textPath xlink:href=\"#arrow-c0825c7317164c0f8da3a3cc67c5532d-0-10\" class=\"displacy-label\" startOffset=\"50%\" side=\"left\" fill=\"currentColor\" text-anchor=\"middle\">nsubj</textPath>\n",
              "    </text>\n",
              "    <path class=\"displacy-arrowhead\" d=\"M1995,441.5 L1987,429.5 2003,429.5\" fill=\"currentColor\"/>\n",
              "</g>\n",
              "\n",
              "<g class=\"displacy-arrow\">\n",
              "    <path class=\"displacy-arc\" id=\"arrow-c0825c7317164c0f8da3a3cc67c5532d-0-11\" stroke-width=\"2px\" d=\"M2170,439.5 C2170,352.0 2305.0,352.0 2305.0,439.5\" fill=\"none\" stroke=\"currentColor\"/>\n",
              "    <text dy=\"1.25em\" style=\"font-size: 0.8em; letter-spacing: 1px\">\n",
              "        <textPath xlink:href=\"#arrow-c0825c7317164c0f8da3a3cc67c5532d-0-11\" class=\"displacy-label\" startOffset=\"50%\" side=\"left\" fill=\"currentColor\" text-anchor=\"middle\">prep</textPath>\n",
              "    </text>\n",
              "    <path class=\"displacy-arrowhead\" d=\"M2305.0,441.5 L2313.0,429.5 2297.0,429.5\" fill=\"currentColor\"/>\n",
              "</g>\n",
              "\n",
              "<g class=\"displacy-arrow\">\n",
              "    <path class=\"displacy-arc\" id=\"arrow-c0825c7317164c0f8da3a3cc67c5532d-0-12\" stroke-width=\"2px\" d=\"M2345,439.5 C2345,352.0 2480.0,352.0 2480.0,439.5\" fill=\"none\" stroke=\"currentColor\"/>\n",
              "    <text dy=\"1.25em\" style=\"font-size: 0.8em; letter-spacing: 1px\">\n",
              "        <textPath xlink:href=\"#arrow-c0825c7317164c0f8da3a3cc67c5532d-0-12\" class=\"displacy-label\" startOffset=\"50%\" side=\"left\" fill=\"currentColor\" text-anchor=\"middle\">pobj</textPath>\n",
              "    </text>\n",
              "    <path class=\"displacy-arrowhead\" d=\"M2480.0,441.5 L2488.0,429.5 2472.0,429.5\" fill=\"currentColor\"/>\n",
              "</g>\n",
              "</svg></span>"
            ]
          },
          "metadata": {}
        }
      ]
    },
    {
      "cell_type": "code",
      "source": [
        "# NN require Numbers --but NLP is all about TEXT ?? "
      ],
      "metadata": {
        "id": "nyARkwhxKpyL"
      },
      "execution_count": 8,
      "outputs": []
    },
    {
      "cell_type": "code",
      "source": [
        "# Suggest a way to convert Text to numbers ? "
      ],
      "metadata": {
        "id": "J3LPM0WZK4Rt"
      },
      "execution_count": 9,
      "outputs": []
    },
    {
      "cell_type": "code",
      "source": [
        "# Dict based mapping ... \n",
        "#  1  2. 3.  4.       5.  6.  2 3 \n",
        "# Sam is a wonderful guy, he is a good actor too. He lives in London."
      ],
      "metadata": {
        "id": "bzIxH4IVK6LG"
      },
      "execution_count": 10,
      "outputs": []
    },
    {
      "cell_type": "code",
      "source": [
        "# Frequncy - \n",
        "# he - 2\n",
        "# "
      ],
      "metadata": {
        "id": "6C4hlDcBLCyS"
      },
      "execution_count": 11,
      "outputs": []
    },
    {
      "cell_type": "code",
      "source": [
        "# N-gram \n",
        "# \"What does n-gram means?\"\n",
        "\n",
        "# 1-gram --> \"what\", \"does\", \"n-gram\", 'means?'\n",
        "# 2-gram --> \"what does\", \"does n-gram\", \"n-gram means?\"\n",
        "# 3-gram --> \"what does n-gram\", \"does n-gram means?\""
      ],
      "metadata": {
        "id": "LZe4N7v5LEri"
      },
      "execution_count": 12,
      "outputs": []
    },
    {
      "cell_type": "code",
      "source": [
        "# Can we make a model which can generate text? "
      ],
      "metadata": {
        "id": "-rfE3Vv5LS8U"
      },
      "execution_count": 13,
      "outputs": []
    },
    {
      "cell_type": "code",
      "source": [
        "# Word2Vector "
      ],
      "metadata": {
        "id": "P0BYTQlbLcHz"
      },
      "execution_count": 14,
      "outputs": []
    },
    {
      "cell_type": "code",
      "source": [
        "a = nlp(\"Google\")\n",
        "b = nlp(\"Apple\")\n",
        "c = nlp(\"Facebook\")"
      ],
      "metadata": {
        "id": "f3aDVQBSLeyG"
      },
      "execution_count": 15,
      "outputs": []
    },
    {
      "cell_type": "code",
      "source": [
        "a.vector"
      ],
      "metadata": {
        "colab": {
          "base_uri": "https://localhost:8080/"
        },
        "id": "jWFXgtKLO0Pn",
        "outputId": "e504317f-a9fb-46f7-972f-5bb6a3c5b470"
      },
      "execution_count": 16,
      "outputs": [
        {
          "output_type": "execute_result",
          "data": {
            "text/plain": [
              "array([-1.6791669 , -1.0870782 ,  0.19250968,  0.25911054,  0.6035862 ,\n",
              "       -0.23943791,  0.4230825 ,  1.0905894 , -0.72287023,  0.54199773,\n",
              "        2.0134606 ,  0.5878436 , -1.438591  ,  0.34972262, -0.9885775 ,\n",
              "       -0.22488567, -0.36815703, -0.46108434,  1.0655041 , -0.5766572 ,\n",
              "       -1.5123732 ,  0.0944034 , -0.77869797,  0.3027918 ,  0.5676613 ,\n",
              "       -0.43504488,  1.1920483 ,  2.069745  , -1.0445035 ,  0.5072073 ,\n",
              "       -0.5986357 , -0.2677313 ,  0.55666125,  0.7843174 , -0.5754984 ,\n",
              "       -1.2421182 , -0.0360465 ,  1.4002968 ,  0.38987774,  0.84340775,\n",
              "       -1.8175898 ,  0.09984967, -0.90104455,  0.1442564 , -0.931141  ,\n",
              "       -0.75148654, -0.83200043,  2.6693754 ,  0.47673374,  0.14977697,\n",
              "        0.29660368, -0.31461513,  1.7833931 , -0.2737963 ,  0.21640371,\n",
              "       -0.61993563,  0.31884038, -1.3580458 ,  0.3538408 ,  1.1720878 ,\n",
              "       -0.9922355 , -0.6553284 ,  0.48162243, -0.09145242,  1.8525093 ,\n",
              "        0.41191703,  0.2289168 ,  0.41558364, -0.34144104, -1.6715763 ,\n",
              "       -0.03176923, -0.50995314,  1.3127506 ,  0.06884529,  0.1893157 ,\n",
              "       -0.00792915,  0.49803048, -0.42086333, -0.14312631, -1.477735  ,\n",
              "       -0.27463835,  0.09194161, -0.54663646, -1.3215225 ,  0.40168962,\n",
              "        0.9809966 ,  1.4745597 ,  0.0391379 , -0.52888274,  0.7404101 ,\n",
              "       -0.9102658 , -0.49908575,  3.0042279 , -0.37593699,  0.1441854 ,\n",
              "        0.52195406], dtype=float32)"
            ]
          },
          "metadata": {},
          "execution_count": 16
        }
      ]
    },
    {
      "cell_type": "code",
      "source": [
        "b.vector"
      ],
      "metadata": {
        "colab": {
          "base_uri": "https://localhost:8080/"
        },
        "id": "13FvGCa-O6pB",
        "outputId": "278f29d5-c82a-4ed5-c71d-eca899626ce7"
      },
      "execution_count": 17,
      "outputs": [
        {
          "output_type": "execute_result",
          "data": {
            "text/plain": [
              "array([-1.2343618e+00, -2.2066161e-01, -1.3394827e+00,  9.2617881e-01,\n",
              "       -1.6458777e-01,  2.0845172e-01,  6.5073305e-01,  3.7095931e-01,\n",
              "       -7.9483503e-01, -5.9541941e-01,  1.3144678e+00, -8.0588520e-01,\n",
              "       -3.3430627e-01,  7.4644768e-01, -6.4305353e-01, -1.8274871e-01,\n",
              "       -1.1063125e+00, -3.7885407e-01,  1.7686224e-01, -5.3272671e-01,\n",
              "       -8.7309712e-01,  6.9363844e-01,  5.5944312e-01, -2.3312125e-01,\n",
              "        2.6052874e-01,  1.7502695e-01,  8.9972937e-01,  1.2830396e+00,\n",
              "       -7.2877765e-01,  6.3959765e-01, -4.4129956e-01, -1.4194009e-01,\n",
              "        6.8932390e-01,  4.6950650e-01, -5.7734179e-01, -1.2287256e+00,\n",
              "        1.2212546e+00, -2.0027488e-01,  1.4388344e+00,  1.1146947e+00,\n",
              "       -6.1585677e-01,  1.1059536e+00, -8.0499786e-01, -1.5372425e-02,\n",
              "       -2.8666100e-01, -6.0369498e-01,  2.0780817e-01,  3.3249247e-01,\n",
              "        1.3695480e-01, -5.5912948e-01,  6.2507582e-01, -7.7239025e-01,\n",
              "        3.7244290e-02, -2.3847607e-01,  4.4491506e-01, -1.6928431e+00,\n",
              "        6.3253683e-01, -9.4693524e-01,  6.3979954e-02,  5.6080180e-01,\n",
              "       -7.7175444e-01, -2.1687746e-03,  2.5245416e-01, -8.6731821e-01,\n",
              "        2.1562021e+00,  1.5533060e-02,  4.7364789e-01, -1.0610368e+00,\n",
              "        5.1755834e-01, -9.3048441e-01, -4.0801486e-01,  1.1840314e-01,\n",
              "        1.9438350e+00, -5.4718822e-01, -4.4986922e-01,  2.1799715e-01,\n",
              "       -2.0536771e-01,  8.6446419e-02,  1.7209461e-01, -6.0764700e-01,\n",
              "       -3.1693959e-01, -5.7123947e-01, -5.7839882e-01, -1.3460747e+00,\n",
              "       -3.6477238e-01,  1.7918825e+00,  6.8929970e-01,  4.2444620e-01,\n",
              "        4.8127609e-01, -2.8799093e-01, -1.0571691e+00, -6.1636770e-01,\n",
              "        2.8925645e+00,  6.0655093e-01,  8.1112444e-01, -2.0827761e-01],\n",
              "      dtype=float32)"
            ]
          },
          "metadata": {},
          "execution_count": 17
        }
      ]
    },
    {
      "cell_type": "code",
      "source": [
        "c.vector"
      ],
      "metadata": {
        "colab": {
          "base_uri": "https://localhost:8080/"
        },
        "id": "yLvph6fAPAE5",
        "outputId": "b6971b12-d811-4a51-d375-49487fc85357"
      },
      "execution_count": 18,
      "outputs": [
        {
          "output_type": "execute_result",
          "data": {
            "text/plain": [
              "array([-2.1077116 , -0.491973  , -0.34974584,  0.37904048, -0.02380076,\n",
              "       -0.08774841,  0.22293666,  0.90935993, -1.3458292 , -0.5528244 ,\n",
              "        1.1895857 ,  0.6469119 , -0.8769143 ,  0.81442475, -0.7486456 ,\n",
              "        0.12409085, -0.6502746 , -0.4602342 ,  0.19534414,  0.0786109 ,\n",
              "       -1.360201  ,  0.26025787, -1.2948723 , -0.8155788 ,  0.42881507,\n",
              "       -0.26371974,  0.6591323 ,  1.5256813 , -0.6019674 ,  0.09475392,\n",
              "       -1.0009048 , -0.12629879,  0.94562584,  1.1853515 , -0.8426292 ,\n",
              "       -0.82655185,  0.79051846, -0.11954081,  1.0133008 ,  0.32311964,\n",
              "       -1.399874  , -0.18326256, -0.9395002 , -0.41907758, -0.12417403,\n",
              "       -1.6345037 , -0.52238226,  1.3740392 , -0.13781157, -0.37936184,\n",
              "        0.33318424,  0.134179  , -0.24938151, -0.59653586,  0.53259397,\n",
              "       -1.4517511 ,  1.9502676 , -0.6091121 ,  0.71654344,  0.9432373 ,\n",
              "       -0.65933263,  0.45620862, -0.1883679 , -0.66438794,  2.6922512 ,\n",
              "        1.1655848 ,  0.6837379 , -1.0469077 , -0.07074583, -0.41565663,\n",
              "        0.8980668 ,  0.9434618 ,  1.6984293 ,  0.28306082, -0.35124022,\n",
              "        0.5402252 ,  0.10608043, -0.15937012, -0.50875413, -1.0237869 ,\n",
              "        0.21645045,  0.28560513,  0.05493657, -0.46354812, -0.14125869,\n",
              "        1.9720558 ,  0.55869436,  0.6640346 , -0.00824562, -0.03165451,\n",
              "       -1.3772354 , -0.8509536 ,  3.011156  ,  0.3747533 ,  0.5446079 ,\n",
              "       -0.05516565], dtype=float32)"
            ]
          },
          "metadata": {},
          "execution_count": 18
        }
      ]
    },
    {
      "cell_type": "code",
      "source": [
        "a.similarity(b)"
      ],
      "metadata": {
        "colab": {
          "base_uri": "https://localhost:8080/"
        },
        "id": "AIV-CUnyPF5A",
        "outputId": "557a3cfe-ce87-4fd6-a846-683f0d05202a"
      },
      "execution_count": 19,
      "outputs": [
        {
          "output_type": "stream",
          "name": "stderr",
          "text": [
            "<ipython-input-19-59d9b9290d16>:1: UserWarning: [W007] The model you're using has no word vectors loaded, so the result of the Doc.similarity method will be based on the tagger, parser and NER, which may not give useful similarity judgements. This may happen if you're using one of the small models, e.g. `en_core_web_sm`, which don't ship with word vectors and only use context-sensitive tensors. You can always add your own word vectors, or use one of the larger models instead if available.\n",
            "  a.similarity(b)\n"
          ]
        },
        {
          "output_type": "execute_result",
          "data": {
            "text/plain": [
              "0.6568804462629225"
            ]
          },
          "metadata": {},
          "execution_count": 19
        }
      ]
    },
    {
      "cell_type": "code",
      "source": [
        "b.similarity(c)"
      ],
      "metadata": {
        "colab": {
          "base_uri": "https://localhost:8080/"
        },
        "id": "sUjGPQmpPP5p",
        "outputId": "7d447462-d8bf-4908-d791-e6be2d89a10a"
      },
      "execution_count": 20,
      "outputs": [
        {
          "output_type": "stream",
          "name": "stderr",
          "text": [
            "<ipython-input-20-eba71b50ebe3>:1: UserWarning: [W007] The model you're using has no word vectors loaded, so the result of the Doc.similarity method will be based on the tagger, parser and NER, which may not give useful similarity judgements. This may happen if you're using one of the small models, e.g. `en_core_web_sm`, which don't ship with word vectors and only use context-sensitive tensors. You can always add your own word vectors, or use one of the larger models instead if available.\n",
            "  b.similarity(c)\n"
          ]
        },
        {
          "output_type": "execute_result",
          "data": {
            "text/plain": [
              "0.7807713230377261"
            ]
          },
          "metadata": {},
          "execution_count": 20
        }
      ]
    },
    {
      "cell_type": "code",
      "source": [
        "c.similarity(a)"
      ],
      "metadata": {
        "colab": {
          "base_uri": "https://localhost:8080/"
        },
        "id": "K3rFFpLiPUT9",
        "outputId": "a300f1d9-cd81-4f1a-9b2f-4a8b7ea67421"
      },
      "execution_count": 21,
      "outputs": [
        {
          "output_type": "stream",
          "name": "stderr",
          "text": [
            "<ipython-input-21-0673d4b9d918>:1: UserWarning: [W007] The model you're using has no word vectors loaded, so the result of the Doc.similarity method will be based on the tagger, parser and NER, which may not give useful similarity judgements. This may happen if you're using one of the small models, e.g. `en_core_web_sm`, which don't ship with word vectors and only use context-sensitive tensors. You can always add your own word vectors, or use one of the larger models instead if available.\n",
            "  c.similarity(a)\n"
          ]
        },
        {
          "output_type": "execute_result",
          "data": {
            "text/plain": [
              "0.7316495238905276"
            ]
          },
          "metadata": {},
          "execution_count": 21
        }
      ]
    },
    {
      "cell_type": "code",
      "source": [
        "nlp(\"sam thought of riding a bike after eating pizza\").similarity(nlp(\"sam thought of having a pizza then riding a bike\"))"
      ],
      "metadata": {
        "colab": {
          "base_uri": "https://localhost:8080/"
        },
        "id": "0P_u6gO7PZx8",
        "outputId": "04db2c81-05ec-4195-a1a4-4d05b9f8fb3e"
      },
      "execution_count": 22,
      "outputs": [
        {
          "output_type": "stream",
          "name": "stderr",
          "text": [
            "<ipython-input-22-b6efa2fb51ff>:1: UserWarning: [W007] The model you're using has no word vectors loaded, so the result of the Doc.similarity method will be based on the tagger, parser and NER, which may not give useful similarity judgements. This may happen if you're using one of the small models, e.g. `en_core_web_sm`, which don't ship with word vectors and only use context-sensitive tensors. You can always add your own word vectors, or use one of the larger models instead if available.\n",
            "  nlp(\"sam thought of riding a bike after eating pizza\").similarity(nlp(\"sam thought of having a pizza then riding a bike\"))\n"
          ]
        },
        {
          "output_type": "execute_result",
          "data": {
            "text/plain": [
              "0.847288927555709"
            ]
          },
          "metadata": {},
          "execution_count": 22
        }
      ]
    },
    {
      "cell_type": "code",
      "source": [
        "#now lets try the same with a highier model with more vectors"
      ],
      "metadata": {
        "id": "0a3TBbACPzmN"
      },
      "execution_count": 23,
      "outputs": []
    },
    {
      "cell_type": "code",
      "source": [
        "spacy.cli.download(\"en_core_web_lg\")"
      ],
      "metadata": {
        "colab": {
          "base_uri": "https://localhost:8080/"
        },
        "id": "xG3kQV5PQEtK",
        "outputId": "ff710ab3-719e-4ce2-9b90-6254ccc2d589"
      },
      "execution_count": 24,
      "outputs": [
        {
          "output_type": "stream",
          "name": "stdout",
          "text": [
            "\u001b[38;5;2m✔ Download and installation successful\u001b[0m\n",
            "You can now load the package via spacy.load('en_core_web_lg')\n"
          ]
        }
      ]
    },
    {
      "cell_type": "code",
      "source": [
        "nlp2 = spacy.load(\"en_core_web_lg\")"
      ],
      "metadata": {
        "id": "s8hC9nuoQUQ4"
      },
      "execution_count": 25,
      "outputs": []
    },
    {
      "cell_type": "code",
      "source": [
        "nlp2(\"sam thought of riding a bike after eating pizza\").similarity(nlp2(\"sam thought of having a pizza then riding a bike\"))"
      ],
      "metadata": {
        "colab": {
          "base_uri": "https://localhost:8080/"
        },
        "id": "9c4zvWLbQinV",
        "outputId": "459634b5-7e0b-40b2-90c9-e56111350c95"
      },
      "execution_count": 26,
      "outputs": [
        {
          "output_type": "execute_result",
          "data": {
            "text/plain": [
              "0.9495598088688993"
            ]
          },
          "metadata": {},
          "execution_count": 26
        }
      ]
    },
    {
      "cell_type": "code",
      "source": [
        "#so we can say that both the sentance are almost similar and it gave us a better similarity score when we tried it with a highier model"
      ],
      "metadata": {
        "id": "Xb700h5MQnjg"
      },
      "execution_count": 27,
      "outputs": []
    },
    {
      "cell_type": "code",
      "source": [
        "nlp2(\"google\").vector.shape"
      ],
      "metadata": {
        "colab": {
          "base_uri": "https://localhost:8080/"
        },
        "id": "CULfcJBeQ0sa",
        "outputId": "49f6845f-4e23-4be6-9a47-1ecbffd2226f"
      },
      "execution_count": 28,
      "outputs": [
        {
          "output_type": "execute_result",
          "data": {
            "text/plain": [
              "(300,)"
            ]
          },
          "metadata": {},
          "execution_count": 28
        }
      ]
    },
    {
      "cell_type": "code",
      "source": [
        "nlp(\"google\").vector.shape"
      ],
      "metadata": {
        "colab": {
          "base_uri": "https://localhost:8080/"
        },
        "id": "q5qPb67iRHAz",
        "outputId": "ac68f536-ce06-407d-d44e-31571489b5f3"
      },
      "execution_count": 29,
      "outputs": [
        {
          "output_type": "execute_result",
          "data": {
            "text/plain": [
              "(96,)"
            ]
          },
          "metadata": {},
          "execution_count": 29
        }
      ]
    },
    {
      "cell_type": "code",
      "source": [
        "# RNN Recurrent Neural Networks - \n",
        "# Sam is a student in MIT, currently studing aeronautical sciences and he is also interning with NASA\n",
        "\n",
        "\n",
        "# a) It learns everything, even not required info\n",
        "# b) because it learn everything, it looses information of early stages"
      ],
      "metadata": {
        "id": "mrX11mkvRLRL"
      },
      "execution_count": 30,
      "outputs": []
    },
    {
      "cell_type": "code",
      "source": [
        "# LSTM Long Short Term Memory\n"
      ],
      "metadata": {
        "id": "T_Zmsh17RZT9"
      },
      "execution_count": 31,
      "outputs": []
    },
    {
      "cell_type": "code",
      "source": [
        "import pandas as pd\n",
        "import numpy as np"
      ],
      "metadata": {
        "id": "T6BJqLTCR5Pu"
      },
      "execution_count": 32,
      "outputs": []
    },
    {
      "cell_type": "code",
      "source": [
        "df = pd.read_csv(\"Sentiment.csv\")"
      ],
      "metadata": {
        "id": "MxkBH-nURbUl"
      },
      "execution_count": 33,
      "outputs": []
    },
    {
      "cell_type": "code",
      "source": [
        "df.head()"
      ],
      "metadata": {
        "colab": {
          "base_uri": "https://localhost:8080/",
          "height": 490
        },
        "id": "kjHENGnsR3fJ",
        "outputId": "2352702a-a150-44c2-d185-b35f575ffad0"
      },
      "execution_count": 34,
      "outputs": [
        {
          "output_type": "execute_result",
          "data": {
            "text/plain": [
              "   id               candidate  candidate_confidence relevant_yn  \\\n",
              "0   1  No candidate mentioned                   1.0         yes   \n",
              "1   2            Scott Walker                   1.0         yes   \n",
              "2   3  No candidate mentioned                   1.0         yes   \n",
              "3   4  No candidate mentioned                   1.0         yes   \n",
              "4   5            Donald Trump                   1.0         yes   \n",
              "\n",
              "   relevant_yn_confidence sentiment  sentiment_confidence     subject_matter  \\\n",
              "0                     1.0   Neutral                0.6578  None of the above   \n",
              "1                     1.0  Positive                0.6333  None of the above   \n",
              "2                     1.0   Neutral                0.6629  None of the above   \n",
              "3                     1.0  Positive                1.0000  None of the above   \n",
              "4                     1.0  Positive                0.7045  None of the above   \n",
              "\n",
              "   subject_matter_confidence candidate_gold  ... relevant_yn_gold  \\\n",
              "0                     1.0000            NaN  ...              NaN   \n",
              "1                     1.0000            NaN  ...              NaN   \n",
              "2                     0.6629            NaN  ...              NaN   \n",
              "3                     0.7039            NaN  ...              NaN   \n",
              "4                     1.0000            NaN  ...              NaN   \n",
              "\n",
              "  retweet_count  sentiment_gold subject_matter_gold  \\\n",
              "0             5             NaN                 NaN   \n",
              "1            26             NaN                 NaN   \n",
              "2            27             NaN                 NaN   \n",
              "3           138             NaN                 NaN   \n",
              "4           156             NaN                 NaN   \n",
              "\n",
              "                                                text tweet_coord  \\\n",
              "0  RT @NancyLeeGrahn: How did everyone feel about...         NaN   \n",
              "1  RT @ScottWalker: Didn't catch the full #GOPdeb...         NaN   \n",
              "2  RT @TJMShow: No mention of Tamir Rice and the ...         NaN   \n",
              "3  RT @RobGeorge: That Carly Fiorina is trending ...         NaN   \n",
              "4  RT @DanScavino: #GOPDebate w/ @realDonaldTrump...         NaN   \n",
              "\n",
              "               tweet_created            tweet_id  tweet_location  \\\n",
              "0  2015-08-07 09:54:46 -0700  629697200650592256             NaN   \n",
              "1  2015-08-07 09:54:46 -0700  629697199560069120             NaN   \n",
              "2  2015-08-07 09:54:46 -0700  629697199312482304             NaN   \n",
              "3  2015-08-07 09:54:45 -0700  629697197118861312           Texas   \n",
              "4  2015-08-07 09:54:45 -0700  629697196967903232             NaN   \n",
              "\n",
              "                user_timezone  \n",
              "0                       Quito  \n",
              "1                         NaN  \n",
              "2                         NaN  \n",
              "3  Central Time (US & Canada)  \n",
              "4                     Arizona  \n",
              "\n",
              "[5 rows x 21 columns]"
            ],
            "text/html": [
              "\n",
              "  <div id=\"df-bdfb2e6f-e78c-44dc-b107-b906e28ed874\">\n",
              "    <div class=\"colab-df-container\">\n",
              "      <div>\n",
              "<style scoped>\n",
              "    .dataframe tbody tr th:only-of-type {\n",
              "        vertical-align: middle;\n",
              "    }\n",
              "\n",
              "    .dataframe tbody tr th {\n",
              "        vertical-align: top;\n",
              "    }\n",
              "\n",
              "    .dataframe thead th {\n",
              "        text-align: right;\n",
              "    }\n",
              "</style>\n",
              "<table border=\"1\" class=\"dataframe\">\n",
              "  <thead>\n",
              "    <tr style=\"text-align: right;\">\n",
              "      <th></th>\n",
              "      <th>id</th>\n",
              "      <th>candidate</th>\n",
              "      <th>candidate_confidence</th>\n",
              "      <th>relevant_yn</th>\n",
              "      <th>relevant_yn_confidence</th>\n",
              "      <th>sentiment</th>\n",
              "      <th>sentiment_confidence</th>\n",
              "      <th>subject_matter</th>\n",
              "      <th>subject_matter_confidence</th>\n",
              "      <th>candidate_gold</th>\n",
              "      <th>...</th>\n",
              "      <th>relevant_yn_gold</th>\n",
              "      <th>retweet_count</th>\n",
              "      <th>sentiment_gold</th>\n",
              "      <th>subject_matter_gold</th>\n",
              "      <th>text</th>\n",
              "      <th>tweet_coord</th>\n",
              "      <th>tweet_created</th>\n",
              "      <th>tweet_id</th>\n",
              "      <th>tweet_location</th>\n",
              "      <th>user_timezone</th>\n",
              "    </tr>\n",
              "  </thead>\n",
              "  <tbody>\n",
              "    <tr>\n",
              "      <th>0</th>\n",
              "      <td>1</td>\n",
              "      <td>No candidate mentioned</td>\n",
              "      <td>1.0</td>\n",
              "      <td>yes</td>\n",
              "      <td>1.0</td>\n",
              "      <td>Neutral</td>\n",
              "      <td>0.6578</td>\n",
              "      <td>None of the above</td>\n",
              "      <td>1.0000</td>\n",
              "      <td>NaN</td>\n",
              "      <td>...</td>\n",
              "      <td>NaN</td>\n",
              "      <td>5</td>\n",
              "      <td>NaN</td>\n",
              "      <td>NaN</td>\n",
              "      <td>RT @NancyLeeGrahn: How did everyone feel about...</td>\n",
              "      <td>NaN</td>\n",
              "      <td>2015-08-07 09:54:46 -0700</td>\n",
              "      <td>629697200650592256</td>\n",
              "      <td>NaN</td>\n",
              "      <td>Quito</td>\n",
              "    </tr>\n",
              "    <tr>\n",
              "      <th>1</th>\n",
              "      <td>2</td>\n",
              "      <td>Scott Walker</td>\n",
              "      <td>1.0</td>\n",
              "      <td>yes</td>\n",
              "      <td>1.0</td>\n",
              "      <td>Positive</td>\n",
              "      <td>0.6333</td>\n",
              "      <td>None of the above</td>\n",
              "      <td>1.0000</td>\n",
              "      <td>NaN</td>\n",
              "      <td>...</td>\n",
              "      <td>NaN</td>\n",
              "      <td>26</td>\n",
              "      <td>NaN</td>\n",
              "      <td>NaN</td>\n",
              "      <td>RT @ScottWalker: Didn't catch the full #GOPdeb...</td>\n",
              "      <td>NaN</td>\n",
              "      <td>2015-08-07 09:54:46 -0700</td>\n",
              "      <td>629697199560069120</td>\n",
              "      <td>NaN</td>\n",
              "      <td>NaN</td>\n",
              "    </tr>\n",
              "    <tr>\n",
              "      <th>2</th>\n",
              "      <td>3</td>\n",
              "      <td>No candidate mentioned</td>\n",
              "      <td>1.0</td>\n",
              "      <td>yes</td>\n",
              "      <td>1.0</td>\n",
              "      <td>Neutral</td>\n",
              "      <td>0.6629</td>\n",
              "      <td>None of the above</td>\n",
              "      <td>0.6629</td>\n",
              "      <td>NaN</td>\n",
              "      <td>...</td>\n",
              "      <td>NaN</td>\n",
              "      <td>27</td>\n",
              "      <td>NaN</td>\n",
              "      <td>NaN</td>\n",
              "      <td>RT @TJMShow: No mention of Tamir Rice and the ...</td>\n",
              "      <td>NaN</td>\n",
              "      <td>2015-08-07 09:54:46 -0700</td>\n",
              "      <td>629697199312482304</td>\n",
              "      <td>NaN</td>\n",
              "      <td>NaN</td>\n",
              "    </tr>\n",
              "    <tr>\n",
              "      <th>3</th>\n",
              "      <td>4</td>\n",
              "      <td>No candidate mentioned</td>\n",
              "      <td>1.0</td>\n",
              "      <td>yes</td>\n",
              "      <td>1.0</td>\n",
              "      <td>Positive</td>\n",
              "      <td>1.0000</td>\n",
              "      <td>None of the above</td>\n",
              "      <td>0.7039</td>\n",
              "      <td>NaN</td>\n",
              "      <td>...</td>\n",
              "      <td>NaN</td>\n",
              "      <td>138</td>\n",
              "      <td>NaN</td>\n",
              "      <td>NaN</td>\n",
              "      <td>RT @RobGeorge: That Carly Fiorina is trending ...</td>\n",
              "      <td>NaN</td>\n",
              "      <td>2015-08-07 09:54:45 -0700</td>\n",
              "      <td>629697197118861312</td>\n",
              "      <td>Texas</td>\n",
              "      <td>Central Time (US &amp; Canada)</td>\n",
              "    </tr>\n",
              "    <tr>\n",
              "      <th>4</th>\n",
              "      <td>5</td>\n",
              "      <td>Donald Trump</td>\n",
              "      <td>1.0</td>\n",
              "      <td>yes</td>\n",
              "      <td>1.0</td>\n",
              "      <td>Positive</td>\n",
              "      <td>0.7045</td>\n",
              "      <td>None of the above</td>\n",
              "      <td>1.0000</td>\n",
              "      <td>NaN</td>\n",
              "      <td>...</td>\n",
              "      <td>NaN</td>\n",
              "      <td>156</td>\n",
              "      <td>NaN</td>\n",
              "      <td>NaN</td>\n",
              "      <td>RT @DanScavino: #GOPDebate w/ @realDonaldTrump...</td>\n",
              "      <td>NaN</td>\n",
              "      <td>2015-08-07 09:54:45 -0700</td>\n",
              "      <td>629697196967903232</td>\n",
              "      <td>NaN</td>\n",
              "      <td>Arizona</td>\n",
              "    </tr>\n",
              "  </tbody>\n",
              "</table>\n",
              "<p>5 rows × 21 columns</p>\n",
              "</div>\n",
              "      <button class=\"colab-df-convert\" onclick=\"convertToInteractive('df-bdfb2e6f-e78c-44dc-b107-b906e28ed874')\"\n",
              "              title=\"Convert this dataframe to an interactive table.\"\n",
              "              style=\"display:none;\">\n",
              "        \n",
              "  <svg xmlns=\"http://www.w3.org/2000/svg\" height=\"24px\"viewBox=\"0 0 24 24\"\n",
              "       width=\"24px\">\n",
              "    <path d=\"M0 0h24v24H0V0z\" fill=\"none\"/>\n",
              "    <path d=\"M18.56 5.44l.94 2.06.94-2.06 2.06-.94-2.06-.94-.94-2.06-.94 2.06-2.06.94zm-11 1L8.5 8.5l.94-2.06 2.06-.94-2.06-.94L8.5 2.5l-.94 2.06-2.06.94zm10 10l.94 2.06.94-2.06 2.06-.94-2.06-.94-.94-2.06-.94 2.06-2.06.94z\"/><path d=\"M17.41 7.96l-1.37-1.37c-.4-.4-.92-.59-1.43-.59-.52 0-1.04.2-1.43.59L10.3 9.45l-7.72 7.72c-.78.78-.78 2.05 0 2.83L4 21.41c.39.39.9.59 1.41.59.51 0 1.02-.2 1.41-.59l7.78-7.78 2.81-2.81c.8-.78.8-2.07 0-2.86zM5.41 20L4 18.59l7.72-7.72 1.47 1.35L5.41 20z\"/>\n",
              "  </svg>\n",
              "      </button>\n",
              "      \n",
              "  <style>\n",
              "    .colab-df-container {\n",
              "      display:flex;\n",
              "      flex-wrap:wrap;\n",
              "      gap: 12px;\n",
              "    }\n",
              "\n",
              "    .colab-df-convert {\n",
              "      background-color: #E8F0FE;\n",
              "      border: none;\n",
              "      border-radius: 50%;\n",
              "      cursor: pointer;\n",
              "      display: none;\n",
              "      fill: #1967D2;\n",
              "      height: 32px;\n",
              "      padding: 0 0 0 0;\n",
              "      width: 32px;\n",
              "    }\n",
              "\n",
              "    .colab-df-convert:hover {\n",
              "      background-color: #E2EBFA;\n",
              "      box-shadow: 0px 1px 2px rgba(60, 64, 67, 0.3), 0px 1px 3px 1px rgba(60, 64, 67, 0.15);\n",
              "      fill: #174EA6;\n",
              "    }\n",
              "\n",
              "    [theme=dark] .colab-df-convert {\n",
              "      background-color: #3B4455;\n",
              "      fill: #D2E3FC;\n",
              "    }\n",
              "\n",
              "    [theme=dark] .colab-df-convert:hover {\n",
              "      background-color: #434B5C;\n",
              "      box-shadow: 0px 1px 3px 1px rgba(0, 0, 0, 0.15);\n",
              "      filter: drop-shadow(0px 1px 2px rgba(0, 0, 0, 0.3));\n",
              "      fill: #FFFFFF;\n",
              "    }\n",
              "  </style>\n",
              "\n",
              "      <script>\n",
              "        const buttonEl =\n",
              "          document.querySelector('#df-bdfb2e6f-e78c-44dc-b107-b906e28ed874 button.colab-df-convert');\n",
              "        buttonEl.style.display =\n",
              "          google.colab.kernel.accessAllowed ? 'block' : 'none';\n",
              "\n",
              "        async function convertToInteractive(key) {\n",
              "          const element = document.querySelector('#df-bdfb2e6f-e78c-44dc-b107-b906e28ed874');\n",
              "          const dataTable =\n",
              "            await google.colab.kernel.invokeFunction('convertToInteractive',\n",
              "                                                     [key], {});\n",
              "          if (!dataTable) return;\n",
              "\n",
              "          const docLinkHtml = 'Like what you see? Visit the ' +\n",
              "            '<a target=\"_blank\" href=https://colab.research.google.com/notebooks/data_table.ipynb>data table notebook</a>'\n",
              "            + ' to learn more about interactive tables.';\n",
              "          element.innerHTML = '';\n",
              "          dataTable['output_type'] = 'display_data';\n",
              "          await google.colab.output.renderOutput(dataTable, element);\n",
              "          const docLink = document.createElement('div');\n",
              "          docLink.innerHTML = docLinkHtml;\n",
              "          element.appendChild(docLink);\n",
              "        }\n",
              "      </script>\n",
              "    </div>\n",
              "  </div>\n",
              "  "
            ]
          },
          "metadata": {},
          "execution_count": 34
        }
      ]
    },
    {
      "cell_type": "code",
      "source": [
        "df = df.loc[:,[\"candidate\",\"text\",\"sentiment\"]]"
      ],
      "metadata": {
        "id": "AdG3CpRQT7-t"
      },
      "execution_count": 35,
      "outputs": []
    },
    {
      "cell_type": "code",
      "source": [
        "df.head()"
      ],
      "metadata": {
        "colab": {
          "base_uri": "https://localhost:8080/",
          "height": 206
        },
        "id": "GpBC9LBRVc_T",
        "outputId": "c6705689-e33c-4c41-b22f-029fce204958"
      },
      "execution_count": 36,
      "outputs": [
        {
          "output_type": "execute_result",
          "data": {
            "text/plain": [
              "                candidate                                               text  \\\n",
              "0  No candidate mentioned  RT @NancyLeeGrahn: How did everyone feel about...   \n",
              "1            Scott Walker  RT @ScottWalker: Didn't catch the full #GOPdeb...   \n",
              "2  No candidate mentioned  RT @TJMShow: No mention of Tamir Rice and the ...   \n",
              "3  No candidate mentioned  RT @RobGeorge: That Carly Fiorina is trending ...   \n",
              "4            Donald Trump  RT @DanScavino: #GOPDebate w/ @realDonaldTrump...   \n",
              "\n",
              "  sentiment  \n",
              "0   Neutral  \n",
              "1  Positive  \n",
              "2   Neutral  \n",
              "3  Positive  \n",
              "4  Positive  "
            ],
            "text/html": [
              "\n",
              "  <div id=\"df-2515ad3c-7e0e-4082-b0bb-6de971a5dc96\">\n",
              "    <div class=\"colab-df-container\">\n",
              "      <div>\n",
              "<style scoped>\n",
              "    .dataframe tbody tr th:only-of-type {\n",
              "        vertical-align: middle;\n",
              "    }\n",
              "\n",
              "    .dataframe tbody tr th {\n",
              "        vertical-align: top;\n",
              "    }\n",
              "\n",
              "    .dataframe thead th {\n",
              "        text-align: right;\n",
              "    }\n",
              "</style>\n",
              "<table border=\"1\" class=\"dataframe\">\n",
              "  <thead>\n",
              "    <tr style=\"text-align: right;\">\n",
              "      <th></th>\n",
              "      <th>candidate</th>\n",
              "      <th>text</th>\n",
              "      <th>sentiment</th>\n",
              "    </tr>\n",
              "  </thead>\n",
              "  <tbody>\n",
              "    <tr>\n",
              "      <th>0</th>\n",
              "      <td>No candidate mentioned</td>\n",
              "      <td>RT @NancyLeeGrahn: How did everyone feel about...</td>\n",
              "      <td>Neutral</td>\n",
              "    </tr>\n",
              "    <tr>\n",
              "      <th>1</th>\n",
              "      <td>Scott Walker</td>\n",
              "      <td>RT @ScottWalker: Didn't catch the full #GOPdeb...</td>\n",
              "      <td>Positive</td>\n",
              "    </tr>\n",
              "    <tr>\n",
              "      <th>2</th>\n",
              "      <td>No candidate mentioned</td>\n",
              "      <td>RT @TJMShow: No mention of Tamir Rice and the ...</td>\n",
              "      <td>Neutral</td>\n",
              "    </tr>\n",
              "    <tr>\n",
              "      <th>3</th>\n",
              "      <td>No candidate mentioned</td>\n",
              "      <td>RT @RobGeorge: That Carly Fiorina is trending ...</td>\n",
              "      <td>Positive</td>\n",
              "    </tr>\n",
              "    <tr>\n",
              "      <th>4</th>\n",
              "      <td>Donald Trump</td>\n",
              "      <td>RT @DanScavino: #GOPDebate w/ @realDonaldTrump...</td>\n",
              "      <td>Positive</td>\n",
              "    </tr>\n",
              "  </tbody>\n",
              "</table>\n",
              "</div>\n",
              "      <button class=\"colab-df-convert\" onclick=\"convertToInteractive('df-2515ad3c-7e0e-4082-b0bb-6de971a5dc96')\"\n",
              "              title=\"Convert this dataframe to an interactive table.\"\n",
              "              style=\"display:none;\">\n",
              "        \n",
              "  <svg xmlns=\"http://www.w3.org/2000/svg\" height=\"24px\"viewBox=\"0 0 24 24\"\n",
              "       width=\"24px\">\n",
              "    <path d=\"M0 0h24v24H0V0z\" fill=\"none\"/>\n",
              "    <path d=\"M18.56 5.44l.94 2.06.94-2.06 2.06-.94-2.06-.94-.94-2.06-.94 2.06-2.06.94zm-11 1L8.5 8.5l.94-2.06 2.06-.94-2.06-.94L8.5 2.5l-.94 2.06-2.06.94zm10 10l.94 2.06.94-2.06 2.06-.94-2.06-.94-.94-2.06-.94 2.06-2.06.94z\"/><path d=\"M17.41 7.96l-1.37-1.37c-.4-.4-.92-.59-1.43-.59-.52 0-1.04.2-1.43.59L10.3 9.45l-7.72 7.72c-.78.78-.78 2.05 0 2.83L4 21.41c.39.39.9.59 1.41.59.51 0 1.02-.2 1.41-.59l7.78-7.78 2.81-2.81c.8-.78.8-2.07 0-2.86zM5.41 20L4 18.59l7.72-7.72 1.47 1.35L5.41 20z\"/>\n",
              "  </svg>\n",
              "      </button>\n",
              "      \n",
              "  <style>\n",
              "    .colab-df-container {\n",
              "      display:flex;\n",
              "      flex-wrap:wrap;\n",
              "      gap: 12px;\n",
              "    }\n",
              "\n",
              "    .colab-df-convert {\n",
              "      background-color: #E8F0FE;\n",
              "      border: none;\n",
              "      border-radius: 50%;\n",
              "      cursor: pointer;\n",
              "      display: none;\n",
              "      fill: #1967D2;\n",
              "      height: 32px;\n",
              "      padding: 0 0 0 0;\n",
              "      width: 32px;\n",
              "    }\n",
              "\n",
              "    .colab-df-convert:hover {\n",
              "      background-color: #E2EBFA;\n",
              "      box-shadow: 0px 1px 2px rgba(60, 64, 67, 0.3), 0px 1px 3px 1px rgba(60, 64, 67, 0.15);\n",
              "      fill: #174EA6;\n",
              "    }\n",
              "\n",
              "    [theme=dark] .colab-df-convert {\n",
              "      background-color: #3B4455;\n",
              "      fill: #D2E3FC;\n",
              "    }\n",
              "\n",
              "    [theme=dark] .colab-df-convert:hover {\n",
              "      background-color: #434B5C;\n",
              "      box-shadow: 0px 1px 3px 1px rgba(0, 0, 0, 0.15);\n",
              "      filter: drop-shadow(0px 1px 2px rgba(0, 0, 0, 0.3));\n",
              "      fill: #FFFFFF;\n",
              "    }\n",
              "  </style>\n",
              "\n",
              "      <script>\n",
              "        const buttonEl =\n",
              "          document.querySelector('#df-2515ad3c-7e0e-4082-b0bb-6de971a5dc96 button.colab-df-convert');\n",
              "        buttonEl.style.display =\n",
              "          google.colab.kernel.accessAllowed ? 'block' : 'none';\n",
              "\n",
              "        async function convertToInteractive(key) {\n",
              "          const element = document.querySelector('#df-2515ad3c-7e0e-4082-b0bb-6de971a5dc96');\n",
              "          const dataTable =\n",
              "            await google.colab.kernel.invokeFunction('convertToInteractive',\n",
              "                                                     [key], {});\n",
              "          if (!dataTable) return;\n",
              "\n",
              "          const docLinkHtml = 'Like what you see? Visit the ' +\n",
              "            '<a target=\"_blank\" href=https://colab.research.google.com/notebooks/data_table.ipynb>data table notebook</a>'\n",
              "            + ' to learn more about interactive tables.';\n",
              "          element.innerHTML = '';\n",
              "          dataTable['output_type'] = 'display_data';\n",
              "          await google.colab.output.renderOutput(dataTable, element);\n",
              "          const docLink = document.createElement('div');\n",
              "          docLink.innerHTML = docLinkHtml;\n",
              "          element.appendChild(docLink);\n",
              "        }\n",
              "      </script>\n",
              "    </div>\n",
              "  </div>\n",
              "  "
            ]
          },
          "metadata": {},
          "execution_count": 36
        }
      ]
    },
    {
      "cell_type": "code",
      "source": [
        "df.sentiment.value_counts()"
      ],
      "metadata": {
        "colab": {
          "base_uri": "https://localhost:8080/"
        },
        "id": "bKGUPsxrVzTb",
        "outputId": "8a93ae26-d46c-49f6-d226-7a0e7870c94c"
      },
      "execution_count": 37,
      "outputs": [
        {
          "output_type": "execute_result",
          "data": {
            "text/plain": [
              "Negative    8493\n",
              "Neutral     3142\n",
              "Positive    2236\n",
              "Name: sentiment, dtype: int64"
            ]
          },
          "metadata": {},
          "execution_count": 37
        }
      ]
    },
    {
      "cell_type": "code",
      "source": [
        "df.candidate.value_counts()"
      ],
      "metadata": {
        "colab": {
          "base_uri": "https://localhost:8080/"
        },
        "id": "RhqBxvU9V-yb",
        "outputId": "b239d1b6-5fcf-43cc-e5fc-e0fa7092ffac"
      },
      "execution_count": 38,
      "outputs": [
        {
          "output_type": "execute_result",
          "data": {
            "text/plain": [
              "No candidate mentioned    7491\n",
              "Donald Trump              2813\n",
              "Jeb Bush                   705\n",
              "Ted Cruz                   637\n",
              "Ben Carson                 404\n",
              "Mike Huckabee              393\n",
              "Chris Christie             293\n",
              "Marco Rubio                275\n",
              "Rand Paul                  263\n",
              "Scott Walker               259\n",
              "John Kasich                242\n",
              "Name: candidate, dtype: int64"
            ]
          },
          "metadata": {},
          "execution_count": 38
        }
      ]
    },
    {
      "cell_type": "code",
      "source": [
        "pd.crosstab(df.candidate,df.sentiment)"
      ],
      "metadata": {
        "colab": {
          "base_uri": "https://localhost:8080/",
          "height": 425
        },
        "id": "GnjDu6BkWFV_",
        "outputId": "782c760f-08ed-49f2-f4cd-0a0dbb0b3af5"
      },
      "execution_count": 39,
      "outputs": [
        {
          "output_type": "execute_result",
          "data": {
            "text/plain": [
              "sentiment               Negative  Neutral  Positive\n",
              "candidate                                          \n",
              "Ben Carson                   186       54       164\n",
              "Chris Christie               218       42        33\n",
              "Donald Trump                1758      446       609\n",
              "Jeb Bush                     589       72        44\n",
              "John Kasich                   82       47       113\n",
              "Marco Rubio                  105       51       119\n",
              "Mike Huckabee                237       83        73\n",
              "No candidate mentioned      4724     2087       680\n",
              "Rand Paul                    148       60        55\n",
              "Scott Walker                 179       38        42\n",
              "Ted Cruz                     221      126       290"
            ],
            "text/html": [
              "\n",
              "  <div id=\"df-a441102e-7c7f-40f1-b04f-d4e5614a44c6\">\n",
              "    <div class=\"colab-df-container\">\n",
              "      <div>\n",
              "<style scoped>\n",
              "    .dataframe tbody tr th:only-of-type {\n",
              "        vertical-align: middle;\n",
              "    }\n",
              "\n",
              "    .dataframe tbody tr th {\n",
              "        vertical-align: top;\n",
              "    }\n",
              "\n",
              "    .dataframe thead th {\n",
              "        text-align: right;\n",
              "    }\n",
              "</style>\n",
              "<table border=\"1\" class=\"dataframe\">\n",
              "  <thead>\n",
              "    <tr style=\"text-align: right;\">\n",
              "      <th>sentiment</th>\n",
              "      <th>Negative</th>\n",
              "      <th>Neutral</th>\n",
              "      <th>Positive</th>\n",
              "    </tr>\n",
              "    <tr>\n",
              "      <th>candidate</th>\n",
              "      <th></th>\n",
              "      <th></th>\n",
              "      <th></th>\n",
              "    </tr>\n",
              "  </thead>\n",
              "  <tbody>\n",
              "    <tr>\n",
              "      <th>Ben Carson</th>\n",
              "      <td>186</td>\n",
              "      <td>54</td>\n",
              "      <td>164</td>\n",
              "    </tr>\n",
              "    <tr>\n",
              "      <th>Chris Christie</th>\n",
              "      <td>218</td>\n",
              "      <td>42</td>\n",
              "      <td>33</td>\n",
              "    </tr>\n",
              "    <tr>\n",
              "      <th>Donald Trump</th>\n",
              "      <td>1758</td>\n",
              "      <td>446</td>\n",
              "      <td>609</td>\n",
              "    </tr>\n",
              "    <tr>\n",
              "      <th>Jeb Bush</th>\n",
              "      <td>589</td>\n",
              "      <td>72</td>\n",
              "      <td>44</td>\n",
              "    </tr>\n",
              "    <tr>\n",
              "      <th>John Kasich</th>\n",
              "      <td>82</td>\n",
              "      <td>47</td>\n",
              "      <td>113</td>\n",
              "    </tr>\n",
              "    <tr>\n",
              "      <th>Marco Rubio</th>\n",
              "      <td>105</td>\n",
              "      <td>51</td>\n",
              "      <td>119</td>\n",
              "    </tr>\n",
              "    <tr>\n",
              "      <th>Mike Huckabee</th>\n",
              "      <td>237</td>\n",
              "      <td>83</td>\n",
              "      <td>73</td>\n",
              "    </tr>\n",
              "    <tr>\n",
              "      <th>No candidate mentioned</th>\n",
              "      <td>4724</td>\n",
              "      <td>2087</td>\n",
              "      <td>680</td>\n",
              "    </tr>\n",
              "    <tr>\n",
              "      <th>Rand Paul</th>\n",
              "      <td>148</td>\n",
              "      <td>60</td>\n",
              "      <td>55</td>\n",
              "    </tr>\n",
              "    <tr>\n",
              "      <th>Scott Walker</th>\n",
              "      <td>179</td>\n",
              "      <td>38</td>\n",
              "      <td>42</td>\n",
              "    </tr>\n",
              "    <tr>\n",
              "      <th>Ted Cruz</th>\n",
              "      <td>221</td>\n",
              "      <td>126</td>\n",
              "      <td>290</td>\n",
              "    </tr>\n",
              "  </tbody>\n",
              "</table>\n",
              "</div>\n",
              "      <button class=\"colab-df-convert\" onclick=\"convertToInteractive('df-a441102e-7c7f-40f1-b04f-d4e5614a44c6')\"\n",
              "              title=\"Convert this dataframe to an interactive table.\"\n",
              "              style=\"display:none;\">\n",
              "        \n",
              "  <svg xmlns=\"http://www.w3.org/2000/svg\" height=\"24px\"viewBox=\"0 0 24 24\"\n",
              "       width=\"24px\">\n",
              "    <path d=\"M0 0h24v24H0V0z\" fill=\"none\"/>\n",
              "    <path d=\"M18.56 5.44l.94 2.06.94-2.06 2.06-.94-2.06-.94-.94-2.06-.94 2.06-2.06.94zm-11 1L8.5 8.5l.94-2.06 2.06-.94-2.06-.94L8.5 2.5l-.94 2.06-2.06.94zm10 10l.94 2.06.94-2.06 2.06-.94-2.06-.94-.94-2.06-.94 2.06-2.06.94z\"/><path d=\"M17.41 7.96l-1.37-1.37c-.4-.4-.92-.59-1.43-.59-.52 0-1.04.2-1.43.59L10.3 9.45l-7.72 7.72c-.78.78-.78 2.05 0 2.83L4 21.41c.39.39.9.59 1.41.59.51 0 1.02-.2 1.41-.59l7.78-7.78 2.81-2.81c.8-.78.8-2.07 0-2.86zM5.41 20L4 18.59l7.72-7.72 1.47 1.35L5.41 20z\"/>\n",
              "  </svg>\n",
              "      </button>\n",
              "      \n",
              "  <style>\n",
              "    .colab-df-container {\n",
              "      display:flex;\n",
              "      flex-wrap:wrap;\n",
              "      gap: 12px;\n",
              "    }\n",
              "\n",
              "    .colab-df-convert {\n",
              "      background-color: #E8F0FE;\n",
              "      border: none;\n",
              "      border-radius: 50%;\n",
              "      cursor: pointer;\n",
              "      display: none;\n",
              "      fill: #1967D2;\n",
              "      height: 32px;\n",
              "      padding: 0 0 0 0;\n",
              "      width: 32px;\n",
              "    }\n",
              "\n",
              "    .colab-df-convert:hover {\n",
              "      background-color: #E2EBFA;\n",
              "      box-shadow: 0px 1px 2px rgba(60, 64, 67, 0.3), 0px 1px 3px 1px rgba(60, 64, 67, 0.15);\n",
              "      fill: #174EA6;\n",
              "    }\n",
              "\n",
              "    [theme=dark] .colab-df-convert {\n",
              "      background-color: #3B4455;\n",
              "      fill: #D2E3FC;\n",
              "    }\n",
              "\n",
              "    [theme=dark] .colab-df-convert:hover {\n",
              "      background-color: #434B5C;\n",
              "      box-shadow: 0px 1px 3px 1px rgba(0, 0, 0, 0.15);\n",
              "      filter: drop-shadow(0px 1px 2px rgba(0, 0, 0, 0.3));\n",
              "      fill: #FFFFFF;\n",
              "    }\n",
              "  </style>\n",
              "\n",
              "      <script>\n",
              "        const buttonEl =\n",
              "          document.querySelector('#df-a441102e-7c7f-40f1-b04f-d4e5614a44c6 button.colab-df-convert');\n",
              "        buttonEl.style.display =\n",
              "          google.colab.kernel.accessAllowed ? 'block' : 'none';\n",
              "\n",
              "        async function convertToInteractive(key) {\n",
              "          const element = document.querySelector('#df-a441102e-7c7f-40f1-b04f-d4e5614a44c6');\n",
              "          const dataTable =\n",
              "            await google.colab.kernel.invokeFunction('convertToInteractive',\n",
              "                                                     [key], {});\n",
              "          if (!dataTable) return;\n",
              "\n",
              "          const docLinkHtml = 'Like what you see? Visit the ' +\n",
              "            '<a target=\"_blank\" href=https://colab.research.google.com/notebooks/data_table.ipynb>data table notebook</a>'\n",
              "            + ' to learn more about interactive tables.';\n",
              "          element.innerHTML = '';\n",
              "          dataTable['output_type'] = 'display_data';\n",
              "          await google.colab.output.renderOutput(dataTable, element);\n",
              "          const docLink = document.createElement('div');\n",
              "          docLink.innerHTML = docLinkHtml;\n",
              "          element.appendChild(docLink);\n",
              "        }\n",
              "      </script>\n",
              "    </div>\n",
              "  </div>\n",
              "  "
            ]
          },
          "metadata": {},
          "execution_count": 39
        }
      ]
    },
    {
      "cell_type": "code",
      "source": [
        "df.text"
      ],
      "metadata": {
        "colab": {
          "base_uri": "https://localhost:8080/"
        },
        "id": "4Rq6AbO1WTjU",
        "outputId": "f8a67416-6c01-422b-8b8b-b7343cd1ba03"
      },
      "execution_count": 40,
      "outputs": [
        {
          "output_type": "execute_result",
          "data": {
            "text/plain": [
              "0        RT @NancyLeeGrahn: How did everyone feel about...\n",
              "1        RT @ScottWalker: Didn't catch the full #GOPdeb...\n",
              "2        RT @TJMShow: No mention of Tamir Rice and the ...\n",
              "3        RT @RobGeorge: That Carly Fiorina is trending ...\n",
              "4        RT @DanScavino: #GOPDebate w/ @realDonaldTrump...\n",
              "                               ...                        \n",
              "13866    RT @cappy_yarbrough: Love to see men who will ...\n",
              "13867    RT @georgehenryw: Who thought Huckabee exceede...\n",
              "13868    RT @Lrihendry: #TedCruz As President, I will a...\n",
              "13869    RT @JRehling: #GOPDebate Donald Trump says tha...\n",
              "13870    RT @Lrihendry: #TedCruz headed into the Presid...\n",
              "Name: text, Length: 13871, dtype: object"
            ]
          },
          "metadata": {},
          "execution_count": 40
        }
      ]
    },
    {
      "cell_type": "code",
      "source": [
        "sample_tweet = df.text[0]"
      ],
      "metadata": {
        "id": "dSBKtupaWdNw"
      },
      "execution_count": 41,
      "outputs": []
    },
    {
      "cell_type": "code",
      "source": [
        "sample_tweet"
      ],
      "metadata": {
        "colab": {
          "base_uri": "https://localhost:8080/",
          "height": 36
        },
        "id": "ZpXuprQMXEP5",
        "outputId": "fa0c54c9-bad2-4621-9bd1-2c96de2fa915"
      },
      "execution_count": 42,
      "outputs": [
        {
          "output_type": "execute_result",
          "data": {
            "text/plain": [
              "'RT @NancyLeeGrahn: How did everyone feel about the Climate Change question last night? Exactly. #GOPDebate'"
            ],
            "application/vnd.google.colaboratory.intrinsic+json": {
              "type": "string"
            }
          },
          "metadata": {},
          "execution_count": 42
        }
      ]
    },
    {
      "cell_type": "code",
      "source": [
        "#Regex Based\n",
        "df.text = df.text.str.replace(\"^RT\\s@\\w+:\\s\",\"\",regex = True)"
      ],
      "metadata": {
        "id": "-m2LXhQ3XFou"
      },
      "execution_count": 43,
      "outputs": []
    },
    {
      "cell_type": "code",
      "source": [
        "df.head()"
      ],
      "metadata": {
        "colab": {
          "base_uri": "https://localhost:8080/",
          "height": 206
        },
        "id": "HM6GWUXjYSFU",
        "outputId": "cc9381ed-d4db-434c-9853-16bcacba7144"
      },
      "execution_count": 44,
      "outputs": [
        {
          "output_type": "execute_result",
          "data": {
            "text/plain": [
              "                candidate                                               text  \\\n",
              "0  No candidate mentioned  How did everyone feel about the Climate Change...   \n",
              "1            Scott Walker  Didn't catch the full #GOPdebate last night. H...   \n",
              "2  No candidate mentioned  No mention of Tamir Rice and the #GOPDebate wa...   \n",
              "3  No candidate mentioned  That Carly Fiorina is trending -- hours after ...   \n",
              "4            Donald Trump  #GOPDebate w/ @realDonaldTrump delivered the h...   \n",
              "\n",
              "  sentiment  \n",
              "0   Neutral  \n",
              "1  Positive  \n",
              "2   Neutral  \n",
              "3  Positive  \n",
              "4  Positive  "
            ],
            "text/html": [
              "\n",
              "  <div id=\"df-d1e407b4-6db3-4abc-ac0a-79bf9646f006\">\n",
              "    <div class=\"colab-df-container\">\n",
              "      <div>\n",
              "<style scoped>\n",
              "    .dataframe tbody tr th:only-of-type {\n",
              "        vertical-align: middle;\n",
              "    }\n",
              "\n",
              "    .dataframe tbody tr th {\n",
              "        vertical-align: top;\n",
              "    }\n",
              "\n",
              "    .dataframe thead th {\n",
              "        text-align: right;\n",
              "    }\n",
              "</style>\n",
              "<table border=\"1\" class=\"dataframe\">\n",
              "  <thead>\n",
              "    <tr style=\"text-align: right;\">\n",
              "      <th></th>\n",
              "      <th>candidate</th>\n",
              "      <th>text</th>\n",
              "      <th>sentiment</th>\n",
              "    </tr>\n",
              "  </thead>\n",
              "  <tbody>\n",
              "    <tr>\n",
              "      <th>0</th>\n",
              "      <td>No candidate mentioned</td>\n",
              "      <td>How did everyone feel about the Climate Change...</td>\n",
              "      <td>Neutral</td>\n",
              "    </tr>\n",
              "    <tr>\n",
              "      <th>1</th>\n",
              "      <td>Scott Walker</td>\n",
              "      <td>Didn't catch the full #GOPdebate last night. H...</td>\n",
              "      <td>Positive</td>\n",
              "    </tr>\n",
              "    <tr>\n",
              "      <th>2</th>\n",
              "      <td>No candidate mentioned</td>\n",
              "      <td>No mention of Tamir Rice and the #GOPDebate wa...</td>\n",
              "      <td>Neutral</td>\n",
              "    </tr>\n",
              "    <tr>\n",
              "      <th>3</th>\n",
              "      <td>No candidate mentioned</td>\n",
              "      <td>That Carly Fiorina is trending -- hours after ...</td>\n",
              "      <td>Positive</td>\n",
              "    </tr>\n",
              "    <tr>\n",
              "      <th>4</th>\n",
              "      <td>Donald Trump</td>\n",
              "      <td>#GOPDebate w/ @realDonaldTrump delivered the h...</td>\n",
              "      <td>Positive</td>\n",
              "    </tr>\n",
              "  </tbody>\n",
              "</table>\n",
              "</div>\n",
              "      <button class=\"colab-df-convert\" onclick=\"convertToInteractive('df-d1e407b4-6db3-4abc-ac0a-79bf9646f006')\"\n",
              "              title=\"Convert this dataframe to an interactive table.\"\n",
              "              style=\"display:none;\">\n",
              "        \n",
              "  <svg xmlns=\"http://www.w3.org/2000/svg\" height=\"24px\"viewBox=\"0 0 24 24\"\n",
              "       width=\"24px\">\n",
              "    <path d=\"M0 0h24v24H0V0z\" fill=\"none\"/>\n",
              "    <path d=\"M18.56 5.44l.94 2.06.94-2.06 2.06-.94-2.06-.94-.94-2.06-.94 2.06-2.06.94zm-11 1L8.5 8.5l.94-2.06 2.06-.94-2.06-.94L8.5 2.5l-.94 2.06-2.06.94zm10 10l.94 2.06.94-2.06 2.06-.94-2.06-.94-.94-2.06-.94 2.06-2.06.94z\"/><path d=\"M17.41 7.96l-1.37-1.37c-.4-.4-.92-.59-1.43-.59-.52 0-1.04.2-1.43.59L10.3 9.45l-7.72 7.72c-.78.78-.78 2.05 0 2.83L4 21.41c.39.39.9.59 1.41.59.51 0 1.02-.2 1.41-.59l7.78-7.78 2.81-2.81c.8-.78.8-2.07 0-2.86zM5.41 20L4 18.59l7.72-7.72 1.47 1.35L5.41 20z\"/>\n",
              "  </svg>\n",
              "      </button>\n",
              "      \n",
              "  <style>\n",
              "    .colab-df-container {\n",
              "      display:flex;\n",
              "      flex-wrap:wrap;\n",
              "      gap: 12px;\n",
              "    }\n",
              "\n",
              "    .colab-df-convert {\n",
              "      background-color: #E8F0FE;\n",
              "      border: none;\n",
              "      border-radius: 50%;\n",
              "      cursor: pointer;\n",
              "      display: none;\n",
              "      fill: #1967D2;\n",
              "      height: 32px;\n",
              "      padding: 0 0 0 0;\n",
              "      width: 32px;\n",
              "    }\n",
              "\n",
              "    .colab-df-convert:hover {\n",
              "      background-color: #E2EBFA;\n",
              "      box-shadow: 0px 1px 2px rgba(60, 64, 67, 0.3), 0px 1px 3px 1px rgba(60, 64, 67, 0.15);\n",
              "      fill: #174EA6;\n",
              "    }\n",
              "\n",
              "    [theme=dark] .colab-df-convert {\n",
              "      background-color: #3B4455;\n",
              "      fill: #D2E3FC;\n",
              "    }\n",
              "\n",
              "    [theme=dark] .colab-df-convert:hover {\n",
              "      background-color: #434B5C;\n",
              "      box-shadow: 0px 1px 3px 1px rgba(0, 0, 0, 0.15);\n",
              "      filter: drop-shadow(0px 1px 2px rgba(0, 0, 0, 0.3));\n",
              "      fill: #FFFFFF;\n",
              "    }\n",
              "  </style>\n",
              "\n",
              "      <script>\n",
              "        const buttonEl =\n",
              "          document.querySelector('#df-d1e407b4-6db3-4abc-ac0a-79bf9646f006 button.colab-df-convert');\n",
              "        buttonEl.style.display =\n",
              "          google.colab.kernel.accessAllowed ? 'block' : 'none';\n",
              "\n",
              "        async function convertToInteractive(key) {\n",
              "          const element = document.querySelector('#df-d1e407b4-6db3-4abc-ac0a-79bf9646f006');\n",
              "          const dataTable =\n",
              "            await google.colab.kernel.invokeFunction('convertToInteractive',\n",
              "                                                     [key], {});\n",
              "          if (!dataTable) return;\n",
              "\n",
              "          const docLinkHtml = 'Like what you see? Visit the ' +\n",
              "            '<a target=\"_blank\" href=https://colab.research.google.com/notebooks/data_table.ipynb>data table notebook</a>'\n",
              "            + ' to learn more about interactive tables.';\n",
              "          element.innerHTML = '';\n",
              "          dataTable['output_type'] = 'display_data';\n",
              "          await google.colab.output.renderOutput(dataTable, element);\n",
              "          const docLink = document.createElement('div');\n",
              "          docLink.innerHTML = docLinkHtml;\n",
              "          element.appendChild(docLink);\n",
              "        }\n",
              "      </script>\n",
              "    </div>\n",
              "  </div>\n",
              "  "
            ]
          },
          "metadata": {},
          "execution_count": 44
        }
      ]
    },
    {
      "cell_type": "code",
      "source": [
        "import string\n",
        "import re\n",
        "string.punctuation"
      ],
      "metadata": {
        "colab": {
          "base_uri": "https://localhost:8080/",
          "height": 36
        },
        "id": "PZetJnczYUj7",
        "outputId": "1270083c-0d65-4071-edc6-8d07c04c5c25"
      },
      "execution_count": 45,
      "outputs": [
        {
          "output_type": "execute_result",
          "data": {
            "text/plain": [
              "'!\"#$%&\\'()*+,-./:;<=>?@[\\\\]^_`{|}~'"
            ],
            "application/vnd.google.colaboratory.intrinsic+json": {
              "type": "string"
            }
          },
          "metadata": {},
          "execution_count": 45
        }
      ]
    },
    {
      "cell_type": "code",
      "source": [
        "df.text = df.text.apply(lambda x: re.sub(\"[^a-zA-Z0-9\\s]\",\"\",x))"
      ],
      "metadata": {
        "id": "lkOF4BoCYkR4"
      },
      "execution_count": 46,
      "outputs": []
    },
    {
      "cell_type": "code",
      "source": [
        "df.head()"
      ],
      "metadata": {
        "colab": {
          "base_uri": "https://localhost:8080/",
          "height": 206
        },
        "id": "dTuGpIhjZ1Bl",
        "outputId": "75557642-c175-4e78-cfc0-1b5f0ff923ad"
      },
      "execution_count": 47,
      "outputs": [
        {
          "output_type": "execute_result",
          "data": {
            "text/plain": [
              "                candidate                                               text  \\\n",
              "0  No candidate mentioned  How did everyone feel about the Climate Change...   \n",
              "1            Scott Walker  Didnt catch the full GOPdebate last night Here...   \n",
              "2  No candidate mentioned  No mention of Tamir Rice and the GOPDebate was...   \n",
              "3  No candidate mentioned  That Carly Fiorina is trending  hours after HE...   \n",
              "4            Donald Trump  GOPDebate w realDonaldTrump delivered the high...   \n",
              "\n",
              "  sentiment  \n",
              "0   Neutral  \n",
              "1  Positive  \n",
              "2   Neutral  \n",
              "3  Positive  \n",
              "4  Positive  "
            ],
            "text/html": [
              "\n",
              "  <div id=\"df-1dad2c29-15fa-4560-96c7-0000b8377157\">\n",
              "    <div class=\"colab-df-container\">\n",
              "      <div>\n",
              "<style scoped>\n",
              "    .dataframe tbody tr th:only-of-type {\n",
              "        vertical-align: middle;\n",
              "    }\n",
              "\n",
              "    .dataframe tbody tr th {\n",
              "        vertical-align: top;\n",
              "    }\n",
              "\n",
              "    .dataframe thead th {\n",
              "        text-align: right;\n",
              "    }\n",
              "</style>\n",
              "<table border=\"1\" class=\"dataframe\">\n",
              "  <thead>\n",
              "    <tr style=\"text-align: right;\">\n",
              "      <th></th>\n",
              "      <th>candidate</th>\n",
              "      <th>text</th>\n",
              "      <th>sentiment</th>\n",
              "    </tr>\n",
              "  </thead>\n",
              "  <tbody>\n",
              "    <tr>\n",
              "      <th>0</th>\n",
              "      <td>No candidate mentioned</td>\n",
              "      <td>How did everyone feel about the Climate Change...</td>\n",
              "      <td>Neutral</td>\n",
              "    </tr>\n",
              "    <tr>\n",
              "      <th>1</th>\n",
              "      <td>Scott Walker</td>\n",
              "      <td>Didnt catch the full GOPdebate last night Here...</td>\n",
              "      <td>Positive</td>\n",
              "    </tr>\n",
              "    <tr>\n",
              "      <th>2</th>\n",
              "      <td>No candidate mentioned</td>\n",
              "      <td>No mention of Tamir Rice and the GOPDebate was...</td>\n",
              "      <td>Neutral</td>\n",
              "    </tr>\n",
              "    <tr>\n",
              "      <th>3</th>\n",
              "      <td>No candidate mentioned</td>\n",
              "      <td>That Carly Fiorina is trending  hours after HE...</td>\n",
              "      <td>Positive</td>\n",
              "    </tr>\n",
              "    <tr>\n",
              "      <th>4</th>\n",
              "      <td>Donald Trump</td>\n",
              "      <td>GOPDebate w realDonaldTrump delivered the high...</td>\n",
              "      <td>Positive</td>\n",
              "    </tr>\n",
              "  </tbody>\n",
              "</table>\n",
              "</div>\n",
              "      <button class=\"colab-df-convert\" onclick=\"convertToInteractive('df-1dad2c29-15fa-4560-96c7-0000b8377157')\"\n",
              "              title=\"Convert this dataframe to an interactive table.\"\n",
              "              style=\"display:none;\">\n",
              "        \n",
              "  <svg xmlns=\"http://www.w3.org/2000/svg\" height=\"24px\"viewBox=\"0 0 24 24\"\n",
              "       width=\"24px\">\n",
              "    <path d=\"M0 0h24v24H0V0z\" fill=\"none\"/>\n",
              "    <path d=\"M18.56 5.44l.94 2.06.94-2.06 2.06-.94-2.06-.94-.94-2.06-.94 2.06-2.06.94zm-11 1L8.5 8.5l.94-2.06 2.06-.94-2.06-.94L8.5 2.5l-.94 2.06-2.06.94zm10 10l.94 2.06.94-2.06 2.06-.94-2.06-.94-.94-2.06-.94 2.06-2.06.94z\"/><path d=\"M17.41 7.96l-1.37-1.37c-.4-.4-.92-.59-1.43-.59-.52 0-1.04.2-1.43.59L10.3 9.45l-7.72 7.72c-.78.78-.78 2.05 0 2.83L4 21.41c.39.39.9.59 1.41.59.51 0 1.02-.2 1.41-.59l7.78-7.78 2.81-2.81c.8-.78.8-2.07 0-2.86zM5.41 20L4 18.59l7.72-7.72 1.47 1.35L5.41 20z\"/>\n",
              "  </svg>\n",
              "      </button>\n",
              "      \n",
              "  <style>\n",
              "    .colab-df-container {\n",
              "      display:flex;\n",
              "      flex-wrap:wrap;\n",
              "      gap: 12px;\n",
              "    }\n",
              "\n",
              "    .colab-df-convert {\n",
              "      background-color: #E8F0FE;\n",
              "      border: none;\n",
              "      border-radius: 50%;\n",
              "      cursor: pointer;\n",
              "      display: none;\n",
              "      fill: #1967D2;\n",
              "      height: 32px;\n",
              "      padding: 0 0 0 0;\n",
              "      width: 32px;\n",
              "    }\n",
              "\n",
              "    .colab-df-convert:hover {\n",
              "      background-color: #E2EBFA;\n",
              "      box-shadow: 0px 1px 2px rgba(60, 64, 67, 0.3), 0px 1px 3px 1px rgba(60, 64, 67, 0.15);\n",
              "      fill: #174EA6;\n",
              "    }\n",
              "\n",
              "    [theme=dark] .colab-df-convert {\n",
              "      background-color: #3B4455;\n",
              "      fill: #D2E3FC;\n",
              "    }\n",
              "\n",
              "    [theme=dark] .colab-df-convert:hover {\n",
              "      background-color: #434B5C;\n",
              "      box-shadow: 0px 1px 3px 1px rgba(0, 0, 0, 0.15);\n",
              "      filter: drop-shadow(0px 1px 2px rgba(0, 0, 0, 0.3));\n",
              "      fill: #FFFFFF;\n",
              "    }\n",
              "  </style>\n",
              "\n",
              "      <script>\n",
              "        const buttonEl =\n",
              "          document.querySelector('#df-1dad2c29-15fa-4560-96c7-0000b8377157 button.colab-df-convert');\n",
              "        buttonEl.style.display =\n",
              "          google.colab.kernel.accessAllowed ? 'block' : 'none';\n",
              "\n",
              "        async function convertToInteractive(key) {\n",
              "          const element = document.querySelector('#df-1dad2c29-15fa-4560-96c7-0000b8377157');\n",
              "          const dataTable =\n",
              "            await google.colab.kernel.invokeFunction('convertToInteractive',\n",
              "                                                     [key], {});\n",
              "          if (!dataTable) return;\n",
              "\n",
              "          const docLinkHtml = 'Like what you see? Visit the ' +\n",
              "            '<a target=\"_blank\" href=https://colab.research.google.com/notebooks/data_table.ipynb>data table notebook</a>'\n",
              "            + ' to learn more about interactive tables.';\n",
              "          element.innerHTML = '';\n",
              "          dataTable['output_type'] = 'display_data';\n",
              "          await google.colab.output.renderOutput(dataTable, element);\n",
              "          const docLink = document.createElement('div');\n",
              "          docLink.innerHTML = docLinkHtml;\n",
              "          element.appendChild(docLink);\n",
              "        }\n",
              "      </script>\n",
              "    </div>\n",
              "  </div>\n",
              "  "
            ]
          },
          "metadata": {},
          "execution_count": 47
        }
      ]
    },
    {
      "cell_type": "code",
      "source": [
        "df.text = df.text.str.lower()"
      ],
      "metadata": {
        "id": "VNg_9b3KZ3Eq"
      },
      "execution_count": 48,
      "outputs": []
    },
    {
      "cell_type": "code",
      "source": [
        "df.head()"
      ],
      "metadata": {
        "colab": {
          "base_uri": "https://localhost:8080/",
          "height": 206
        },
        "id": "GmNece1Labd_",
        "outputId": "95a1029e-8a81-481e-d7e0-7d7fd9ebee43"
      },
      "execution_count": 49,
      "outputs": [
        {
          "output_type": "execute_result",
          "data": {
            "text/plain": [
              "                candidate                                               text  \\\n",
              "0  No candidate mentioned  how did everyone feel about the climate change...   \n",
              "1            Scott Walker  didnt catch the full gopdebate last night here...   \n",
              "2  No candidate mentioned  no mention of tamir rice and the gopdebate was...   \n",
              "3  No candidate mentioned  that carly fiorina is trending  hours after he...   \n",
              "4            Donald Trump  gopdebate w realdonaldtrump delivered the high...   \n",
              "\n",
              "  sentiment  \n",
              "0   Neutral  \n",
              "1  Positive  \n",
              "2   Neutral  \n",
              "3  Positive  \n",
              "4  Positive  "
            ],
            "text/html": [
              "\n",
              "  <div id=\"df-34cf0f26-de65-4843-8d64-a82d22b5b3eb\">\n",
              "    <div class=\"colab-df-container\">\n",
              "      <div>\n",
              "<style scoped>\n",
              "    .dataframe tbody tr th:only-of-type {\n",
              "        vertical-align: middle;\n",
              "    }\n",
              "\n",
              "    .dataframe tbody tr th {\n",
              "        vertical-align: top;\n",
              "    }\n",
              "\n",
              "    .dataframe thead th {\n",
              "        text-align: right;\n",
              "    }\n",
              "</style>\n",
              "<table border=\"1\" class=\"dataframe\">\n",
              "  <thead>\n",
              "    <tr style=\"text-align: right;\">\n",
              "      <th></th>\n",
              "      <th>candidate</th>\n",
              "      <th>text</th>\n",
              "      <th>sentiment</th>\n",
              "    </tr>\n",
              "  </thead>\n",
              "  <tbody>\n",
              "    <tr>\n",
              "      <th>0</th>\n",
              "      <td>No candidate mentioned</td>\n",
              "      <td>how did everyone feel about the climate change...</td>\n",
              "      <td>Neutral</td>\n",
              "    </tr>\n",
              "    <tr>\n",
              "      <th>1</th>\n",
              "      <td>Scott Walker</td>\n",
              "      <td>didnt catch the full gopdebate last night here...</td>\n",
              "      <td>Positive</td>\n",
              "    </tr>\n",
              "    <tr>\n",
              "      <th>2</th>\n",
              "      <td>No candidate mentioned</td>\n",
              "      <td>no mention of tamir rice and the gopdebate was...</td>\n",
              "      <td>Neutral</td>\n",
              "    </tr>\n",
              "    <tr>\n",
              "      <th>3</th>\n",
              "      <td>No candidate mentioned</td>\n",
              "      <td>that carly fiorina is trending  hours after he...</td>\n",
              "      <td>Positive</td>\n",
              "    </tr>\n",
              "    <tr>\n",
              "      <th>4</th>\n",
              "      <td>Donald Trump</td>\n",
              "      <td>gopdebate w realdonaldtrump delivered the high...</td>\n",
              "      <td>Positive</td>\n",
              "    </tr>\n",
              "  </tbody>\n",
              "</table>\n",
              "</div>\n",
              "      <button class=\"colab-df-convert\" onclick=\"convertToInteractive('df-34cf0f26-de65-4843-8d64-a82d22b5b3eb')\"\n",
              "              title=\"Convert this dataframe to an interactive table.\"\n",
              "              style=\"display:none;\">\n",
              "        \n",
              "  <svg xmlns=\"http://www.w3.org/2000/svg\" height=\"24px\"viewBox=\"0 0 24 24\"\n",
              "       width=\"24px\">\n",
              "    <path d=\"M0 0h24v24H0V0z\" fill=\"none\"/>\n",
              "    <path d=\"M18.56 5.44l.94 2.06.94-2.06 2.06-.94-2.06-.94-.94-2.06-.94 2.06-2.06.94zm-11 1L8.5 8.5l.94-2.06 2.06-.94-2.06-.94L8.5 2.5l-.94 2.06-2.06.94zm10 10l.94 2.06.94-2.06 2.06-.94-2.06-.94-.94-2.06-.94 2.06-2.06.94z\"/><path d=\"M17.41 7.96l-1.37-1.37c-.4-.4-.92-.59-1.43-.59-.52 0-1.04.2-1.43.59L10.3 9.45l-7.72 7.72c-.78.78-.78 2.05 0 2.83L4 21.41c.39.39.9.59 1.41.59.51 0 1.02-.2 1.41-.59l7.78-7.78 2.81-2.81c.8-.78.8-2.07 0-2.86zM5.41 20L4 18.59l7.72-7.72 1.47 1.35L5.41 20z\"/>\n",
              "  </svg>\n",
              "      </button>\n",
              "      \n",
              "  <style>\n",
              "    .colab-df-container {\n",
              "      display:flex;\n",
              "      flex-wrap:wrap;\n",
              "      gap: 12px;\n",
              "    }\n",
              "\n",
              "    .colab-df-convert {\n",
              "      background-color: #E8F0FE;\n",
              "      border: none;\n",
              "      border-radius: 50%;\n",
              "      cursor: pointer;\n",
              "      display: none;\n",
              "      fill: #1967D2;\n",
              "      height: 32px;\n",
              "      padding: 0 0 0 0;\n",
              "      width: 32px;\n",
              "    }\n",
              "\n",
              "    .colab-df-convert:hover {\n",
              "      background-color: #E2EBFA;\n",
              "      box-shadow: 0px 1px 2px rgba(60, 64, 67, 0.3), 0px 1px 3px 1px rgba(60, 64, 67, 0.15);\n",
              "      fill: #174EA6;\n",
              "    }\n",
              "\n",
              "    [theme=dark] .colab-df-convert {\n",
              "      background-color: #3B4455;\n",
              "      fill: #D2E3FC;\n",
              "    }\n",
              "\n",
              "    [theme=dark] .colab-df-convert:hover {\n",
              "      background-color: #434B5C;\n",
              "      box-shadow: 0px 1px 3px 1px rgba(0, 0, 0, 0.15);\n",
              "      filter: drop-shadow(0px 1px 2px rgba(0, 0, 0, 0.3));\n",
              "      fill: #FFFFFF;\n",
              "    }\n",
              "  </style>\n",
              "\n",
              "      <script>\n",
              "        const buttonEl =\n",
              "          document.querySelector('#df-34cf0f26-de65-4843-8d64-a82d22b5b3eb button.colab-df-convert');\n",
              "        buttonEl.style.display =\n",
              "          google.colab.kernel.accessAllowed ? 'block' : 'none';\n",
              "\n",
              "        async function convertToInteractive(key) {\n",
              "          const element = document.querySelector('#df-34cf0f26-de65-4843-8d64-a82d22b5b3eb');\n",
              "          const dataTable =\n",
              "            await google.colab.kernel.invokeFunction('convertToInteractive',\n",
              "                                                     [key], {});\n",
              "          if (!dataTable) return;\n",
              "\n",
              "          const docLinkHtml = 'Like what you see? Visit the ' +\n",
              "            '<a target=\"_blank\" href=https://colab.research.google.com/notebooks/data_table.ipynb>data table notebook</a>'\n",
              "            + ' to learn more about interactive tables.';\n",
              "          element.innerHTML = '';\n",
              "          dataTable['output_type'] = 'display_data';\n",
              "          await google.colab.output.renderOutput(dataTable, element);\n",
              "          const docLink = document.createElement('div');\n",
              "          docLink.innerHTML = docLinkHtml;\n",
              "          element.appendChild(docLink);\n",
              "        }\n",
              "      </script>\n",
              "    </div>\n",
              "  </div>\n",
              "  "
            ]
          },
          "metadata": {},
          "execution_count": 49
        }
      ]
    },
    {
      "cell_type": "code",
      "source": [
        "#Removing the stop words"
      ],
      "metadata": {
        "id": "zntIP4j6adJ8"
      },
      "execution_count": 50,
      "outputs": []
    },
    {
      "cell_type": "code",
      "source": [
        "def remove_stopword(tweet):\n",
        "  doc = nlp2(tweet)\n",
        "  non_stopwords = []\n",
        "  for word in doc:\n",
        "    if word.is_stop == False:\n",
        "      non_stopwords.append(word.text)\n",
        "  return \" \".join(non_stopwords)  # join the elements of list based on \" \""
      ],
      "metadata": {
        "id": "lzCiRlPfajyd"
      },
      "execution_count": 51,
      "outputs": []
    },
    {
      "cell_type": "code",
      "source": [
        "remove_stopword(\"Sam is ,%^ super coo\")"
      ],
      "metadata": {
        "colab": {
          "base_uri": "https://localhost:8080/",
          "height": 36
        },
        "id": "2G8hs5bOeMpk",
        "outputId": "46ecd3e6-6f7e-4a83-aadf-101bb54689f6"
      },
      "execution_count": 52,
      "outputs": [
        {
          "output_type": "execute_result",
          "data": {
            "text/plain": [
              "'Sam , % ^ super coo'"
            ],
            "application/vnd.google.colaboratory.intrinsic+json": {
              "type": "string"
            }
          },
          "metadata": {},
          "execution_count": 52
        }
      ]
    },
    {
      "cell_type": "code",
      "source": [
        "\" \".join([\"Sam\", \"is\", \"awesome\"])"
      ],
      "metadata": {
        "colab": {
          "base_uri": "https://localhost:8080/",
          "height": 36
        },
        "id": "EgjgkR1YfFi1",
        "outputId": "4f856269-a0cf-46b4-cd88-538551dfcdfc"
      },
      "execution_count": 53,
      "outputs": [
        {
          "output_type": "execute_result",
          "data": {
            "text/plain": [
              "'Sam is awesome'"
            ],
            "application/vnd.google.colaboratory.intrinsic+json": {
              "type": "string"
            }
          },
          "metadata": {},
          "execution_count": 53
        }
      ]
    },
    {
      "cell_type": "code",
      "source": [
        "df[\"text2\"] = None"
      ],
      "metadata": {
        "id": "Ci8ZO8_BfSys"
      },
      "execution_count": 54,
      "outputs": []
    },
    {
      "cell_type": "code",
      "source": [
        "df[\"text2\"] = df.text.apply(remove_stopword)"
      ],
      "metadata": {
        "id": "hycl7-kzflAj"
      },
      "execution_count": 55,
      "outputs": []
    },
    {
      "cell_type": "code",
      "source": [
        "df.shape"
      ],
      "metadata": {
        "colab": {
          "base_uri": "https://localhost:8080/"
        },
        "id": "NuzwSxvsfzKz",
        "outputId": "21dbcd38-63aa-49bb-e8f2-7460358f8045"
      },
      "execution_count": 56,
      "outputs": [
        {
          "output_type": "execute_result",
          "data": {
            "text/plain": [
              "(13871, 4)"
            ]
          },
          "metadata": {},
          "execution_count": 56
        }
      ]
    },
    {
      "cell_type": "code",
      "source": [
        "import tensorflow as tf"
      ],
      "metadata": {
        "id": "SXAUYO5RgEwX"
      },
      "execution_count": 57,
      "outputs": []
    },
    {
      "cell_type": "code",
      "source": [
        "from tensorflow.keras.preprocessing.text import Tokenizer\n",
        "from tensorflow.keras.preprocessing.sequence import pad_sequences"
      ],
      "metadata": {
        "id": "7g_YYSCmElay"
      },
      "execution_count": 61,
      "outputs": []
    },
    {
      "cell_type": "code",
      "source": [
        "max_features = 2000\n",
        "token = Tokenizer(max_features,split = \" \")"
      ],
      "metadata": {
        "id": "z7r015cTE4Ui"
      },
      "execution_count": 62,
      "outputs": []
    },
    {
      "cell_type": "code",
      "source": [
        "token.fit_on_texts(df.text2)"
      ],
      "metadata": {
        "id": "WnqRRv08GMoB"
      },
      "execution_count": 63,
      "outputs": []
    },
    {
      "cell_type": "code",
      "source": [
        "token.index_word"
      ],
      "metadata": {
        "colab": {
          "base_uri": "https://localhost:8080/"
        },
        "id": "Iul0K5cdGVNg",
        "outputId": "3233c42e-0eda-44f3-8c9a-0b3bb56035cd"
      },
      "execution_count": 65,
      "outputs": [
        {
          "output_type": "execute_result",
          "data": {
            "text/plain": [
              "{1: 'gopdebate',\n",
              " 2: 'gopdebates',\n",
              " 3: 'nt',\n",
              " 4: 'trump',\n",
              " 5: 'fox',\n",
              " 6: 'realdonaldtrump',\n",
              " 7: 'debate',\n",
              " 8: 'amp',\n",
              " 9: 'news',\n",
              " 10: 'candidates',\n",
              " 11: 'gop',\n",
              " 12: 'like',\n",
              " 13: 'night',\n",
              " 14: 'megynkelly',\n",
              " 15: 'people',\n",
              " 16: 'foxnews',\n",
              " 17: 'jeb',\n",
              " 18: 's',\n",
              " 19: 'bush',\n",
              " 20: 'm',\n",
              " 21: 'think',\n",
              " 22: 'republican',\n",
              " 23: 'president',\n",
              " 24: 'god',\n",
              " 25: 'donald',\n",
              " 26: 'cruz',\n",
              " 27: 'need',\n",
              " 28: 'chris',\n",
              " 29: 'ask',\n",
              " 30: 'rubio',\n",
              " 31: 'want',\n",
              " 32: 'questions',\n",
              " 33: 'question',\n",
              " 34: 'said',\n",
              " 35: 'time',\n",
              " 36: 'know',\n",
              " 37: 'carson',\n",
              " 38: 'watching',\n",
              " 39: 'candidate',\n",
              " 40: 'huckabee',\n",
              " 41: 'wallace',\n",
              " 42: 'nights',\n",
              " 43: 'right',\n",
              " 44: 'women',\n",
              " 45: 'tonight',\n",
              " 46: 'job',\n",
              " 47: 'tedcruz',\n",
              " 48: 'fair',\n",
              " 49: 'megyn',\n",
              " 50: 'trying',\n",
              " 51: 'got',\n",
              " 52: 'hear',\n",
              " 53: 'face',\n",
              " 54: 'america',\n",
              " 55: 'tcot',\n",
              " 56: 'american',\n",
              " 57: 'balanced',\n",
              " 58: 'stage',\n",
              " 59: 'good',\n",
              " 60: 'd',\n",
              " 61: 'watch',\n",
              " 62: 'great',\n",
              " 63: 'talk',\n",
              " 64: 'g',\n",
              " 65: 'hillary',\n",
              " 66: 'money',\n",
              " 67: 'won',\n",
              " 68: 'party',\n",
              " 69: 'paul',\n",
              " 70: 'set',\n",
              " 71: 'field',\n",
              " 72: 'rt',\n",
              " 73: 'going',\n",
              " 74: 'carlyfiorina',\n",
              " 75: 'ben',\n",
              " 76: 'listen',\n",
              " 77: 'walker',\n",
              " 78: 'best',\n",
              " 79: 'presidential',\n",
              " 80: 'kasich',\n",
              " 81: 'real',\n",
              " 82: 'men',\n",
              " 83: 'attack',\n",
              " 84: '2',\n",
              " 85: 'look',\n",
              " 86: 'reminds',\n",
              " 87: 'debates',\n",
              " 88: 'gets',\n",
              " 89: 'kelly',\n",
              " 90: 'obama',\n",
              " 91: 'tell',\n",
              " 92: 'ted',\n",
              " 93: 'obviously',\n",
              " 94: 've',\n",
              " 95: 'music',\n",
              " 96: 'gopdebat',\n",
              " 97: 'thanks',\n",
              " 98: 'rid',\n",
              " 99: 'elevator',\n",
              " 100: 'military',\n",
              " 101: 'talking',\n",
              " 102: 'pick',\n",
              " 103: 'influence',\n",
              " 104: 'states',\n",
              " 105: 'speaking',\n",
              " 106: 'rand',\n",
              " 107: 'says',\n",
              " 108: 'christie',\n",
              " 109: 'makeup',\n",
              " 110: 'vote',\n",
              " 111: 'comes',\n",
              " 112: 'united',\n",
              " 113: 'love',\n",
              " 114: 'disappointing',\n",
              " 115: 'support',\n",
              " 116: 'break',\n",
              " 117: 'better',\n",
              " 118: 'band',\n",
              " 119: 'expose',\n",
              " 120: 'conducting',\n",
              " 121: 'country',\n",
              " 122: 'http',\n",
              " 123: 'ratings',\n",
              " 124: 'fiorina',\n",
              " 125: 'big',\n",
              " 126: 'man',\n",
              " 127: 'rights',\n",
              " 128: 'hillaryclinton',\n",
              " 129: 'win',\n",
              " 130: 'punch',\n",
              " 131: 'long',\n",
              " 132: 'winner',\n",
              " 133: 'donaldtrump',\n",
              " 134: 'randpaul',\n",
              " 135: 'bring',\n",
              " 136: 'wo',\n",
              " 137: 'issues',\n",
              " 138: 'twitter',\n",
              " 139: 'immigration',\n",
              " 140: 'mean',\n",
              " 141: '10',\n",
              " 142: 'oh',\n",
              " 143: 'stoping',\n",
              " 144: 'thing',\n",
              " 145: 'truth',\n",
              " 146: 'social',\n",
              " 147: 'woman',\n",
              " 148: 'softball',\n",
              " 149: '1',\n",
              " 150: 'republicans',\n",
              " 151: 'picking',\n",
              " 152: 'way',\n",
              " 153: 'kill',\n",
              " 154: 'moderators',\n",
              " 155: 'carly',\n",
              " 156: 'new',\n",
              " 157: 'cherry',\n",
              " 158: 'political',\n",
              " 159: 'finances',\n",
              " 160: 'answer',\n",
              " 161: 'politicans',\n",
              " 162: 'things',\n",
              " 163: 'trumps',\n",
              " 164: 'marcorubio',\n",
              " 165: 'speak',\n",
              " 166: 'w',\n",
              " 167: 'adult',\n",
              " 168: 'jebbush',\n",
              " 169: 'hands',\n",
              " 170: 'sure',\n",
              " 171: 'word',\n",
              " 172: 'plan',\n",
              " 173: 'looking',\n",
              " 174: 'posed',\n",
              " 175: 'tv',\n",
              " 176: 'picturesshould',\n",
              " 177: 'kkkorgop',\n",
              " 178: 'white',\n",
              " 179: 'lol',\n",
              " 180: 'abortion',\n",
              " 181: 'democrats',\n",
              " 182: 'scott',\n",
              " 183: 'govchristie',\n",
              " 184: 'actually',\n",
              " 185: 'marco',\n",
              " 186: 'control',\n",
              " 187: '2016',\n",
              " 188: 'u',\n",
              " 189: 'let',\n",
              " 190: 'realbencarson',\n",
              " 191: 'given',\n",
              " 192: 'black',\n",
              " 193: 'life',\n",
              " 194: 'day',\n",
              " 195: 'media',\n",
              " 196: 'watched',\n",
              " 197: 'gopd',\n",
              " 198: 'person',\n",
              " 199: 'raising',\n",
              " 200: 'hey',\n",
              " 201: 'blacklivesmatter',\n",
              " 202: 'guys',\n",
              " 203: 'lets',\n",
              " 204: 'leader',\n",
              " 205: 'dear',\n",
              " 206: 'thinks',\n",
              " 207: 'closing',\n",
              " 208: 'world',\n",
              " 209: 'fact',\n",
              " 210: 'nomination',\n",
              " 211: 'saying',\n",
              " 212: 'clinton',\n",
              " 213: 'wants',\n",
              " 214: 'forward',\n",
              " 215: 'purpose',\n",
              " 216: 'order',\n",
              " 217: 'change',\n",
              " 218: 'today',\n",
              " 219: 'run',\n",
              " 220: 'scottwalker',\n",
              " 221: 'war',\n",
              " 222: 'asked',\n",
              " 223: 'hell',\n",
              " 224: 'thought',\n",
              " 225: 'seen',\n",
              " 226: 'politics',\n",
              " 227: 'admit',\n",
              " 228: 'legitimate',\n",
              " 229: 'nails',\n",
              " 230: 'bad',\n",
              " 231: 'true',\n",
              " 232: 'needs',\n",
              " 233: 'lead',\n",
              " 234: 'reagan',\n",
              " 235: 'govmikehuckabee',\n",
              " 236: 'state',\n",
              " 237: 'yes',\n",
              " 238: 'looks',\n",
              " 239: 'cam',\n",
              " 240: 'problem',\n",
              " 241: 'stop',\n",
              " 242: 'hard',\n",
              " 243: 'fight',\n",
              " 244: 'wallaces',\n",
              " 245: 'trump2016',\n",
              " 246: 'live',\n",
              " 247: 'chrischristie',\n",
              " 248: 'americans',\n",
              " 249: 'guy',\n",
              " 250: 'dr',\n",
              " 251: 'womens',\n",
              " 252: 'little',\n",
              " 253: '3',\n",
              " 254: 'care',\n",
              " 255: 'running',\n",
              " 256: 'happened',\n",
              " 257: 'biggest',\n",
              " 258: 'johnkasich',\n",
              " 259: 'clear',\n",
              " 260: 'potus',\n",
              " 261: 'iran',\n",
              " 262: 'audience',\n",
              " 263: 'seriously',\n",
              " 264: 'climate',\n",
              " 265: 'illegal',\n",
              " 266: 'john',\n",
              " 267: 'makes',\n",
              " 268: 'believe',\n",
              " 269: 'making',\n",
              " 270: 'years',\n",
              " 271: 'enjoyed',\n",
              " 272: 'getting',\n",
              " 273: 'foxdebate',\n",
              " 274: '5',\n",
              " 275: 'fun',\n",
              " 276: 'wait',\n",
              " 277: 'race',\n",
              " 278: 'ill',\n",
              " 279: 'cnn',\n",
              " 280: 'hate',\n",
              " 281: 'calling',\n",
              " 282: 'help',\n",
              " 283: 'bodies',\n",
              " 284: 'lot',\n",
              " 285: 'hair',\n",
              " 286: 'frontrunner',\n",
              " 287: 'learned',\n",
              " 288: 'away',\n",
              " 289: 'voting',\n",
              " 290: 'httpt',\n",
              " 291: 'come',\n",
              " 292: 'favorite',\n",
              " 293: 'point',\n",
              " 294: 'feel',\n",
              " 295: 'comments',\n",
              " 296: 'future',\n",
              " 297: 'politicians',\n",
              " 298: 'democraticdebates',\n",
              " 299: 'democrat',\n",
              " 300: 'discussing',\n",
              " 301: 'came',\n",
              " 302: 'bretbaier',\n",
              " 303: '4',\n",
              " 304: 'misogyny',\n",
              " 305: 'pretty',\n",
              " 306: 'work',\n",
              " 307: 'performance',\n",
              " 308: 'gay',\n",
              " 309: 'voters',\n",
              " 310: 'check',\n",
              " 311: 'mike',\n",
              " 312: 'doubledigit',\n",
              " 313: 'far',\n",
              " 314: 'conservative',\n",
              " 315: 'act',\n",
              " 316: 'thingsmike',\n",
              " 317: 'campaign',\n",
              " 318: 'shit',\n",
              " 319: 'tax',\n",
              " 320: 'heres',\n",
              " 321: 'thank',\n",
              " 322: 'deserve',\n",
              " 323: 'facebook',\n",
              " 324: 'mention',\n",
              " 325: 'isis',\n",
              " 326: 'terrorism',\n",
              " 327: 'important',\n",
              " 328: 'p2',\n",
              " 329: 'debatewithbernie',\n",
              " 330: 'damn',\n",
              " 331: 'boy',\n",
              " 332: 'civil',\n",
              " 333: 'planned',\n",
              " 334: 'maybe',\n",
              " 335: 'gave',\n",
              " 336: 'times',\n",
              " 337: 'rosie',\n",
              " 338: 'start',\n",
              " 339: 'frankluntz',\n",
              " 340: 'tonights',\n",
              " 341: 'brought',\n",
              " 342: 'commercial',\n",
              " 343: 'wow',\n",
              " 344: 'statements',\n",
              " 345: 'single',\n",
              " 346: 'called',\n",
              " 347: 'hope',\n",
              " 348: 'group',\n",
              " 349: 'answers',\n",
              " 350: 'parenthood',\n",
              " 351: 'record',\n",
              " 352: 'conservatives',\n",
              " 353: 'winners',\n",
              " 354: 'end',\n",
              " 355: 'christian',\n",
              " 356: 'game',\n",
              " 357: 'focus',\n",
              " 358: 'deal',\n",
              " 359: 'morning',\n",
              " 360: 'wins',\n",
              " 361: 'youtube',\n",
              " 362: 'issue',\n",
              " 363: 'stupid',\n",
              " 364: 'wrong',\n",
              " 365: 'thoughts',\n",
              " 366: 'loser',\n",
              " 367: 'reality',\n",
              " 368: 'httptcozy12bdukx9',\n",
              " 369: 'went',\n",
              " 370: 'friends',\n",
              " 371: 'process',\n",
              " 372: 'primary',\n",
              " 373: 'took',\n",
              " 374: 'poor',\n",
              " 375: 'sense',\n",
              " 376: 'code',\n",
              " 377: 'twitterland',\n",
              " 378: 'lost',\n",
              " 379: 'left',\n",
              " 380: 'agree',\n",
              " 381: 'kind',\n",
              " 382: 'green',\n",
              " 383: 'class',\n",
              " 384: 'moment',\n",
              " 385: 'vs',\n",
              " 386: 'election',\n",
              " 387: 'jesus',\n",
              " 388: 'kids',\n",
              " 389: 'told',\n",
              " 390: 'find',\n",
              " 391: 'missed',\n",
              " 392: 'losers',\n",
              " 393: 'office',\n",
              " 394: 'having',\n",
              " 395: 'read',\n",
              " 396: 'words',\n",
              " 397: 'gov',\n",
              " 398: 'pimps',\n",
              " 399: 'head',\n",
              " 400: 'police',\n",
              " 401: 'saw',\n",
              " 402: 'gopdeb',\n",
              " 403: 'interesting',\n",
              " 404: 'fucking',\n",
              " 405: 'security',\n",
              " 406: 'fuck',\n",
              " 407: 'prolife',\n",
              " 408: 'bunch',\n",
              " 409: 'old',\n",
              " 410: 'bernie',\n",
              " 411: 'instead',\n",
              " 412: 'entertaining',\n",
              " 413: 'berniesanders',\n",
              " 414: 'asking',\n",
              " 415: 'apple',\n",
              " 416: 'httptco',\n",
              " 417: 'heard',\n",
              " 418: 'line',\n",
              " 419: 'loved',\n",
              " 420: 'fat',\n",
              " 421: 'na',\n",
              " 422: 'correct',\n",
              " 423: 'miss',\n",
              " 424: 'statement',\n",
              " 425: 'florida',\n",
              " 426: 'funny',\n",
              " 427: 'respect',\n",
              " 428: 'half',\n",
              " 429: 'straight',\n",
              " 430: 'ronald',\n",
              " 431: 'ccot',\n",
              " 432: 'racism',\n",
              " 433: 'remove',\n",
              " 434: 'hold',\n",
              " 435: 'primaries',\n",
              " 436: 'moderator',\n",
              " 437: 'brain',\n",
              " 438: 'jobs',\n",
              " 439: 'gon',\n",
              " 440: '1st',\n",
              " 441: 'giving',\n",
              " 442: 'poll',\n",
              " 443: 't',\n",
              " 444: '8',\n",
              " 445: 'tough',\n",
              " 446: 'minutes',\n",
              " 447: 'gun',\n",
              " 448: 'httptcoauhlnza3ww',\n",
              " 449: 'martini',\n",
              " 450: 'ht',\n",
              " 451: 'received',\n",
              " 452: 'direct',\n",
              " 453: 'tweets',\n",
              " 454: 'sentedcruz',\n",
              " 455: 'analysis',\n",
              " 456: 'laws',\n",
              " 457: 'foxnewsdebate',\n",
              " 458: 'cancel',\n",
              " 459: 'hugged',\n",
              " 460: 'guess',\n",
              " 461: 'government',\n",
              " 462: 'httptc',\n",
              " 463: 'wonder',\n",
              " 464: 'breaking',\n",
              " 465: 'video',\n",
              " 466: 'r',\n",
              " 467: 'send',\n",
              " 468: 'play',\n",
              " 469: 'perfect',\n",
              " 470: 'stay',\n",
              " 471: 'history',\n",
              " 472: 'tweet',\n",
              " 473: 'cruzcrew',\n",
              " 474: 'place',\n",
              " 475: 'points',\n",
              " 476: 'mexican',\n",
              " 477: 'matter',\n",
              " 478: 'koch',\n",
              " 479: 'mentioned',\n",
              " 480: 'marriage',\n",
              " 481: 'ok',\n",
              " 482: 'y',\n",
              " 483: 'nice',\n",
              " 484: 'moments',\n",
              " 485: 'pjnet',\n",
              " 486: 'post',\n",
              " 487: 'wish',\n",
              " 488: 'stand',\n",
              " 489: 'kellyfile',\n",
              " 490: 'recap',\n",
              " 491: 'killing',\n",
              " 492: 'compton',\n",
              " 493: 'realize',\n",
              " 494: 'goptbt',\n",
              " 495: 'cleveland',\n",
              " 496: 'wondering',\n",
              " 497: 'pay',\n",
              " 498: 'hangover',\n",
              " 499: 'gopde',\n",
              " 500: 'gt',\n",
              " 501: 'coming',\n",
              " 502: 'gone',\n",
              " 503: 'attacks',\n",
              " 504: 'ass',\n",
              " 505: 'showed',\n",
              " 506: 'disappointed',\n",
              " 507: 'morningjoe',\n",
              " 508: 'talks',\n",
              " 509: 'sexuality',\n",
              " 510: 'cut',\n",
              " 511: 'remember',\n",
              " 512: 'politically',\n",
              " 513: 'gopdeba',\n",
              " 514: 'sanders',\n",
              " 515: 'pissed',\n",
              " 516: 'obamacare',\n",
              " 517: 'tight',\n",
              " 518: 'stands',\n",
              " 519: 'bencarson',\n",
              " 520: 'earned',\n",
              " 521: 'past',\n",
              " 522: 'imwithhuck',\n",
              " 523: 'taking',\n",
              " 524: 'games',\n",
              " 525: 'dc',\n",
              " 526: 'comedy',\n",
              " 527: 'sorry',\n",
              " 528: 'hours',\n",
              " 529: 'pm',\n",
              " 530: 'policy',\n",
              " 531: 'calls',\n",
              " 532: 'response',\n",
              " 533: 'htt',\n",
              " 534: 'probably',\n",
              " 535: 'jonvoyage',\n",
              " 536: 'failed',\n",
              " 537: 'alien',\n",
              " 538: 'totally',\n",
              " 539: 'liberal',\n",
              " 540: 'proud',\n",
              " 541: 'leave',\n",
              " 542: 'perry',\n",
              " 543: 'common',\n",
              " 544: 'shows',\n",
              " 545: 'congress',\n",
              " 546: 'yeah',\n",
              " 547: 'headed',\n",
              " 548: 'anointed',\n",
              " 549: 'crazy',\n",
              " 550: 'uniteblue',\n",
              " 551: 'year',\n",
              " 552: 'wassermanschultz',\n",
              " 553: 'use',\n",
              " 554: 'absolutely',\n",
              " 555: '9',\n",
              " 556: 'msnbc',\n",
              " 557: 'dwstweets',\n",
              " 558: 'joke',\n",
              " 559: 'air',\n",
              " 560: 'irandeal',\n",
              " 561: 'finally',\n",
              " 562: 'polls',\n",
              " 563: 'free',\n",
              " 564: 'outta',\n",
              " 565: 'establishment',\n",
              " 566: 'wall',\n",
              " 567: 'second',\n",
              " 568: 'dems',\n",
              " 569: 'httpst',\n",
              " 570: 'church',\n",
              " 571: 'destroy',\n",
              " 572: 'business',\n",
              " 573: 'correctness',\n",
              " 574: 'status',\n",
              " 575: 'playing',\n",
              " 576: 'carly2016',\n",
              " 577: 'rich',\n",
              " 578: 'farrakhan',\n",
              " 579: 'bor',\n",
              " 580: 'dad',\n",
              " 581: 'legal',\n",
              " 582: 'china',\n",
              " 583: 'idiots',\n",
              " 584: 'usa',\n",
              " 585: 'bimbo',\n",
              " 586: 'prostitutes',\n",
              " 587: 'thinking',\n",
              " 588: 'canttrustabush',\n",
              " 589: 'folks',\n",
              " 590: 'wakeupamerica',\n",
              " 591: '2nd',\n",
              " 592: 'gopclowncar',\n",
              " 593: 'changed',\n",
              " 594: 'jon',\n",
              " 595: 'tried',\n",
              " 596: 'bankruptcy',\n",
              " 597: 'll',\n",
              " 598: 'httpstcolklffn2lfy',\n",
              " 599: 'definitely',\n",
              " 600: 'pledge',\n",
              " 601: 'economy',\n",
              " 602: 'knows',\n",
              " 603: 'total',\n",
              " 604: 'different',\n",
              " 605: 'russia',\n",
              " 606: 'dream',\n",
              " 607: 'https',\n",
              " 608: 'clown',\n",
              " 609: 'worst',\n",
              " 610: 'refuse',\n",
              " 611: 'drinking',\n",
              " 612: 'odonnell',\n",
              " 613: 'bill',\n",
              " 614: 'huge',\n",
              " 615: 'shut',\n",
              " 616: 'waiting',\n",
              " 617: 'high',\n",
              " 618: 'smart',\n",
              " 619: 'spent',\n",
              " 620: 'coverage',\n",
              " 621: 'nominee',\n",
              " 622: 'voter',\n",
              " 623: 'public',\n",
              " 624: 'topics',\n",
              " 625: 'round',\n",
              " 626: 'learn',\n",
              " 627: 'wedding',\n",
              " 628: 'idea',\n",
              " 629: 'facing',\n",
              " 630: 'walker16',\n",
              " 631: 'working',\n",
              " 632: 'mess',\n",
              " 633: 'early',\n",
              " 634: 'surprise',\n",
              " 635: 'rush',\n",
              " 636: 'lies',\n",
              " 637: 'ppl',\n",
              " 638: 'chance',\n",
              " 639: 'racist',\n",
              " 640: 'die',\n",
              " 641: 'reform',\n",
              " 642: 'hand',\n",
              " 643: 'mind',\n",
              " 644: 'human',\n",
              " 645: 'sold',\n",
              " 646: 'personal',\n",
              " 647: 'national',\n",
              " 648: 'home',\n",
              " 649: 'boo',\n",
              " 650: 'constitution',\n",
              " 651: '16',\n",
              " 652: 'lives',\n",
              " 653: 'strong',\n",
              " 654: 'ff',\n",
              " 655: 'hilarious',\n",
              " 656: 'cruzs',\n",
              " 657: 'mr',\n",
              " 658: 'education',\n",
              " 659: 'choice',\n",
              " 660: 'drink',\n",
              " 661: 'sober',\n",
              " 662: 'httptco8s67pz8a4a',\n",
              " 663: 'proved',\n",
              " 664: 'father',\n",
              " 665: 'sad',\n",
              " 666: 'listening',\n",
              " 667: 'sexism',\n",
              " 668: 'impressed',\n",
              " 669: 'elected',\n",
              " 670: 'families',\n",
              " 671: 'tlot',\n",
              " 672: 'budget',\n",
              " 673: 'megan',\n",
              " 674: 'nation',\n",
              " 675: 'sounds',\n",
              " 676: 'afraid',\n",
              " 677: 'brothers',\n",
              " 678: 'everybody',\n",
              " 679: 'c',\n",
              " 680: 'middle',\n",
              " 681: 'wisconsin',\n",
              " 682: 'looked',\n",
              " 683: 'policies',\n",
              " 684: 'takes',\n",
              " 685: 'shot',\n",
              " 686: 'numbers',\n",
              " 687: 'veterans',\n",
              " 688: 'untill',\n",
              " 689: 'hopefuls',\n",
              " 690: 'brotherhood',\n",
              " 691: 'batsask',\n",
              " 692: 'glad',\n",
              " 693: 'walkers',\n",
              " 694: 'brother',\n",
              " 695: 'course',\n",
              " 696: 'washington',\n",
              " 697: 'spoke',\n",
              " 698: 'killed',\n",
              " 699: 'sound',\n",
              " 700: 'basically',\n",
              " 701: 'pro',\n",
              " 702: 'knew',\n",
              " 703: 'ones',\n",
              " 704: 'laugh',\n",
              " 705: 'sets',\n",
              " 706: 'standwithrand',\n",
              " 707: 'beat',\n",
              " 708: 'th',\n",
              " 709: 'unfathomable',\n",
              " 710: 'postmortem',\n",
              " 711: 'surreal',\n",
              " 712: 'fire',\n",
              " 713: 'reason',\n",
              " 714: 'ha',\n",
              " 715: 'view',\n",
              " 716: 'replace',\n",
              " 717: 'completely',\n",
              " 718: 'wanted',\n",
              " 719: 'b',\n",
              " 720: 'number',\n",
              " 721: 'close',\n",
              " 722: 'stuff',\n",
              " 723: 'disgusting',\n",
              " 724: 'movement',\n",
              " 725: 'clowns',\n",
              " 726: 'played',\n",
              " 727: 'family',\n",
              " 728: 'tedcruz2016',\n",
              " 729: 'independent',\n",
              " 730: 'spoken',\n",
              " 731: 'rnc',\n",
              " 732: '6',\n",
              " 733: 'liar',\n",
              " 734: 'system',\n",
              " 735: 'hates',\n",
              " 736: 'hunger',\n",
              " 737: 'senator',\n",
              " 738: 'toot',\n",
              " 739: 'libertyu',\n",
              " 740: 'comment',\n",
              " 741: 'house',\n",
              " 742: 'taxes',\n",
              " 743: 'law',\n",
              " 744: 'join',\n",
              " 745: 'super',\n",
              " 746: 'goes',\n",
              " 747: 'yesterday',\n",
              " 748: 'surprised',\n",
              " 749: 'biased',\n",
              " 750: 'stewart',\n",
              " 751: 'honestly',\n",
              " 752: 'telling',\n",
              " 753: 'based',\n",
              " 754: 'million',\n",
              " 755: 'makeamericagreatagain',\n",
              " 756: 'iraq',\n",
              " 757: 'according',\n",
              " 758: 'rick',\n",
              " 759: 'talked',\n",
              " 760: 'hit',\n",
              " 761: 'lose',\n",
              " 762: 'mentions',\n",
              " 763: 'leaders',\n",
              " 764: 'liberals',\n",
              " 765: 'election2016',\n",
              " 766: 'trust',\n",
              " 767: 'circus',\n",
              " 768: 'gop2016',\n",
              " 769: 'raise',\n",
              " 770: 'anymore',\n",
              " 771: 'movie',\n",
              " 772: 'room',\n",
              " 773: 'foreign',\n",
              " 774: 'pres',\n",
              " 775: 'babies',\n",
              " 776: 'h',\n",
              " 777: 'drudge',\n",
              " 778: '7',\n",
              " 779: 'shame',\n",
              " 780: 'fucked',\n",
              " 781: 'try',\n",
              " 782: 'final',\n",
              " 783: 'entertainment',\n",
              " 784: 'amazing',\n",
              " 785: 'power',\n",
              " 786: 'viewers',\n",
              " 787: 'sexist',\n",
              " 788: 'feelthebern',\n",
              " 789: 'snl',\n",
              " 790: 'advantage',\n",
              " 791: 'baby',\n",
              " 792: 'jokes',\n",
              " 793: 'dog',\n",
              " 794: 'hearing',\n",
              " 795: 'ridiculous',\n",
              " 796: 'terrible',\n",
              " 797: 'noamnesty',\n",
              " 798: 'exactly',\n",
              " 799: '911',\n",
              " 800: 'worse',\n",
              " 801: 'reaction',\n",
              " 802: 'abortions',\n",
              " 803: 'actual',\n",
              " 804: 'clintons',\n",
              " 805: 'unions',\n",
              " 806: 'ready',\n",
              " 807: 'self',\n",
              " 808: 'takeaway',\n",
              " 809: 'leading',\n",
              " 810: 'lots',\n",
              " 811: 'violence',\n",
              " 812: 'excellent',\n",
              " 813: 'attention',\n",
              " 814: 'fix',\n",
              " 815: 'millions',\n",
              " 816: '2015',\n",
              " 817: 'understand',\n",
              " 818: 'remedy',\n",
              " 819: 'results',\n",
              " 820: 'ideas',\n",
              " 821: 'separation',\n",
              " 822: 'mad',\n",
              " 823: 'httptcohimscrvikr',\n",
              " 824: 'httptcojc9jhrrcpw',\n",
              " 825: 'death',\n",
              " 826: 'hillary2016',\n",
              " 827: 'ohio',\n",
              " 828: 'teachers',\n",
              " 829: 'poverty',\n",
              " 830: 'republicandebate',\n",
              " 831: 'friend',\n",
              " 832: 'mother',\n",
              " 833: 'highlights',\n",
              " 834: 'thedailyshow',\n",
              " 835: 'scary',\n",
              " 836: 'santorum',\n",
              " 837: 'experiment',\n",
              " 838: 'fear',\n",
              " 839: 'repeal',\n",
              " 840: 'plannedparenthood',\n",
              " 841: 'health',\n",
              " 842: 'speaks',\n",
              " 843: 'lie',\n",
              " 844: 'awesome',\n",
              " 845: 'bashing',\n",
              " 846: 'means',\n",
              " 847: 'guns',\n",
              " 848: 'spot',\n",
              " 849: 'dumb',\n",
              " 850: 'substance',\n",
              " 851: 'vagina',\n",
              " 852: 'starts',\n",
              " 853: 'combover',\n",
              " 854: 'mutant',\n",
              " 855: 'superpower',\n",
              " 856: 'fearmongering',\n",
              " 857: 'defend',\n",
              " 858: 'attacking',\n",
              " 859: 'message',\n",
              " 860: 'literally',\n",
              " 861: 'pigs',\n",
              " 862: 'hour',\n",
              " 863: 'border',\n",
              " 864: 'cool',\n",
              " 865: 'govt',\n",
              " 866: 'climatechange',\n",
              " 867: 'forgot',\n",
              " 868: 'pc',\n",
              " 869: 'favorites',\n",
              " 870: 'likes',\n",
              " 871: 'healthcare',\n",
              " 872: 'swear',\n",
              " 873: 'finished',\n",
              " 874: 'touch',\n",
              " 875: 'core',\n",
              " 876: 'illegals',\n",
              " 877: 'instagram',\n",
              " 878: 'seeing',\n",
              " 879: 'schools',\n",
              " 880: 'handed',\n",
              " 881: 'ignored',\n",
              " 882: 'realdonaldtrumps',\n",
              " 883: 'turn',\n",
              " 884: 'lived',\n",
              " 885: 'small',\n",
              " 886: 'tuned',\n",
              " 887: 'rest',\n",
              " 888: 'bias',\n",
              " 889: 'israel',\n",
              " 890: 'gives',\n",
              " 891: 'cutting',\n",
              " 892: 'bnrdebates',\n",
              " 893: 'fearful',\n",
              " 894: 'reading',\n",
              " 895: 'allenwestrepub',\n",
              " 896: 'trans',\n",
              " 897: 'rushlimbaugh',\n",
              " 898: 'billhemmer',\n",
              " 899: 'fail',\n",
              " 900: 'birth',\n",
              " 901: 'missing',\n",
              " 902: 'religion',\n",
              " 903: 'abt',\n",
              " 904: 'hug',\n",
              " 905: 'choices',\n",
              " 906: 'handle',\n",
              " 907: 'forget',\n",
              " 908: 'star',\n",
              " 909: 'hurt',\n",
              " 910: 'teaparty',\n",
              " 911: 'buy',\n",
              " 912: 'inequality',\n",
              " 913: 'general',\n",
              " 914: '3rd',\n",
              " 915: 'supporters',\n",
              " 916: 'choose',\n",
              " 917: 'crowd',\n",
              " 918: 'sick',\n",
              " 919: 'democratic',\n",
              " 920: 'share',\n",
              " 921: 'entire',\n",
              " 922: 'unprofessional',\n",
              " 923: 'businesses',\n",
              " 924: 'immigrants',\n",
              " 925: 'lack',\n",
              " 926: '30',\n",
              " 927: 'laughing',\n",
              " 928: 'tomorrow',\n",
              " 929: 'boom',\n",
              " 930: 'governing',\n",
              " 931: 'whererwomen',\n",
              " 932: 'biff',\n",
              " 933: 'womensrights',\n",
              " 934: 'httptcois9gyb7p31',\n",
              " 935: 'httptco950mi0erjz',\n",
              " 936: 'taken',\n",
              " 937: 'ignorant',\n",
              " 938: 'vine',\n",
              " 939: 'body',\n",
              " 940: 'kasich4us',\n",
              " 941: 'open',\n",
              " 942: 'gods',\n",
              " 943: 'pig',\n",
              " 944: 'bc',\n",
              " 945: 'brilliant',\n",
              " 946: 'calm',\n",
              " 947: 'honest',\n",
              " 948: 'fetuses',\n",
              " 949: 'color',\n",
              " 950: 'offended',\n",
              " 951: 'hannity',\n",
              " 952: 'amendment',\n",
              " 953: 'bencarson2016',\n",
              " 954: 'treated',\n",
              " 955: 'fan',\n",
              " 956: 'barely',\n",
              " 957: 'powerful',\n",
              " 958: 'idiot',\n",
              " 959: 'omg',\n",
              " 960: 'drop',\n",
              " 961: 'drunk',\n",
              " 962: 'awful',\n",
              " 963: 'fathers',\n",
              " 964: 'pauls',\n",
              " 965: 'turned',\n",
              " 966: 'impressive',\n",
              " 967: 'children',\n",
              " 968: 'freedom',\n",
              " 969: 'partys',\n",
              " 970: 'clips',\n",
              " 971: 'suck',\n",
              " 972: 'httptconde2oejlmh',\n",
              " 973: 'christianbrotherhood',\n",
              " 974: 'cop',\n",
              " 975: 'liked',\n",
              " 976: 'team',\n",
              " 977: 'luntz',\n",
              " 978: 'blessed',\n",
              " 979: 'unborn',\n",
              " 980: 'ya',\n",
              " 981: 'summary',\n",
              " 982: 'science',\n",
              " 983: 'loves',\n",
              " 984: 'angry',\n",
              " 985: '17',\n",
              " 986: 'following',\n",
              " 987: 'mailman',\n",
              " 988: 'everyones',\n",
              " 989: 'bully',\n",
              " 990: 'kasichs',\n",
              " 991: 'worked',\n",
              " 992: 'jerry',\n",
              " 993: 'wanna',\n",
              " 994: 'considering',\n",
              " 995: 'tweeting',\n",
              " 996: 'sex',\n",
              " 997: 'showing',\n",
              " 998: 'topic',\n",
              " 999: 'days',\n",
              " 1000: 'presidency',\n",
              " ...}"
            ]
          },
          "metadata": {},
          "execution_count": 65
        }
      ]
    },
    {
      "cell_type": "code",
      "source": [
        "X = token.texts_to_sequences(df.text2)"
      ],
      "metadata": {
        "id": "AwXWRozsGbWL"
      },
      "execution_count": 68,
      "outputs": []
    },
    {
      "cell_type": "code",
      "source": [
        "df.text[0]"
      ],
      "metadata": {
        "colab": {
          "base_uri": "https://localhost:8080/",
          "height": 36
        },
        "id": "WcE40-9BG0s0",
        "outputId": "46f5cca0-5ea4-44d7-e857-253196ac10b6"
      },
      "execution_count": 70,
      "outputs": [
        {
          "output_type": "execute_result",
          "data": {
            "text/plain": [
              "'how did everyone feel about the climate change question last night exactly gopdebate'"
            ],
            "application/vnd.google.colaboratory.intrinsic+json": {
              "type": "string"
            }
          },
          "metadata": {},
          "execution_count": 70
        }
      ]
    },
    {
      "cell_type": "code",
      "source": [
        "df.text2[0]"
      ],
      "metadata": {
        "colab": {
          "base_uri": "https://localhost:8080/",
          "height": 36
        },
        "id": "j2r2h12MG-Bi",
        "outputId": "0e0f5b05-7b76-4cd5-8722-80dc1da8d292"
      },
      "execution_count": 71,
      "outputs": [
        {
          "output_type": "execute_result",
          "data": {
            "text/plain": [
              "'feel climate change question night exactly gopdebate'"
            ],
            "application/vnd.google.colaboratory.intrinsic+json": {
              "type": "string"
            }
          },
          "metadata": {},
          "execution_count": 71
        }
      ]
    },
    {
      "cell_type": "code",
      "source": [
        "token.index_word[304]"
      ],
      "metadata": {
        "colab": {
          "base_uri": "https://localhost:8080/",
          "height": 36
        },
        "id": "px2sDQNvHG-d",
        "outputId": "82f6dc02-9444-4b04-a3ca-acecbaacf3eb"
      },
      "execution_count": 72,
      "outputs": [
        {
          "output_type": "execute_result",
          "data": {
            "text/plain": [
              "'misogyny'"
            ],
            "application/vnd.google.colaboratory.intrinsic+json": {
              "type": "string"
            }
          },
          "metadata": {},
          "execution_count": 72
        }
      ]
    },
    {
      "cell_type": "code",
      "source": [
        "token.index_word[200]"
      ],
      "metadata": {
        "colab": {
          "base_uri": "https://localhost:8080/",
          "height": 36
        },
        "id": "Ve0MXwTvHOPy",
        "outputId": "da474a10-6a27-4705-e3bd-365e852f04dc"
      },
      "execution_count": 73,
      "outputs": [
        {
          "output_type": "execute_result",
          "data": {
            "text/plain": [
              "'hey'"
            ],
            "application/vnd.google.colaboratory.intrinsic+json": {
              "type": "string"
            }
          },
          "metadata": {},
          "execution_count": 73
        }
      ]
    },
    {
      "cell_type": "code",
      "source": [
        "X[0]"
      ],
      "metadata": {
        "colab": {
          "base_uri": "https://localhost:8080/"
        },
        "id": "v3AUWkrwHQKD",
        "outputId": "2c2adfd1-fc12-4a2e-b32c-45559629143a"
      },
      "execution_count": 74,
      "outputs": [
        {
          "output_type": "execute_result",
          "data": {
            "text/plain": [
              "[294, 264, 217, 33, 13, 798, 1]"
            ]
          },
          "metadata": {},
          "execution_count": 74
        }
      ]
    },
    {
      "cell_type": "code",
      "source": [
        "# token.word_counts - Word Count \n",
        "# token.word_index - Word Ranking"
      ],
      "metadata": {
        "id": "zv_NjSTWHbAV"
      },
      "execution_count": 75,
      "outputs": []
    },
    {
      "cell_type": "code",
      "source": [
        "x_pad = pad_sequences(X)"
      ],
      "metadata": {
        "id": "_F3AGs6fHfyC"
      },
      "execution_count": 77,
      "outputs": []
    },
    {
      "cell_type": "code",
      "source": [
        "x_pad[0]"
      ],
      "metadata": {
        "colab": {
          "base_uri": "https://localhost:8080/"
        },
        "id": "wAUkMKs3HuHZ",
        "outputId": "81f245f2-c0d0-48af-936d-cd141507fded"
      },
      "execution_count": 79,
      "outputs": [
        {
          "output_type": "execute_result",
          "data": {
            "text/plain": [
              "array([  0,   0,   0,   0,   0,   0,   0,   0,   0,   0,   0,   0,   0,\n",
              "         0,   0,   0, 294, 264, 217,  33,  13, 798,   1], dtype=int32)"
            ]
          },
          "metadata": {},
          "execution_count": 79
        }
      ]
    },
    {
      "cell_type": "code",
      "source": [
        "x_pad[0].shape"
      ],
      "metadata": {
        "colab": {
          "base_uri": "https://localhost:8080/"
        },
        "id": "slf7nfpnH3E_",
        "outputId": "6753a1e5-b7e8-4188-f5b3-fa7def1c42e0"
      },
      "execution_count": 80,
      "outputs": [
        {
          "output_type": "execute_result",
          "data": {
            "text/plain": [
              "(23,)"
            ]
          },
          "metadata": {},
          "execution_count": 80
        }
      ]
    },
    {
      "cell_type": "code",
      "source": [
        "len(x_pad[0]), len(x_pad[10]), len(x_pad[100]), len(x_pad[1000])"
      ],
      "metadata": {
        "colab": {
          "base_uri": "https://localhost:8080/"
        },
        "id": "g6a0_qPTH9YQ",
        "outputId": "26b43bc6-026b-49a1-ec73-893c5b75eb80"
      },
      "execution_count": 82,
      "outputs": [
        {
          "output_type": "execute_result",
          "data": {
            "text/plain": [
              "(23, 23, 23, 23)"
            ]
          },
          "metadata": {},
          "execution_count": 82
        }
      ]
    },
    {
      "cell_type": "code",
      "source": [],
      "metadata": {
        "id": "Le3VluWiSNax"
      },
      "execution_count": null,
      "outputs": []
    },
    {
      "cell_type": "code",
      "source": [
        "model = tf.keras.models.Sequential()\n",
        "model.add(tf.keras.layers.Embedding(max_features,128,input_length=x_pad.shape[1]))\n",
        "model.add(tf.keras.layers.LSTM(128,dropout =0.2))\n",
        "model.add(tf.keras.layers.Dense(3,activation = \"softmax\"))\n"
      ],
      "metadata": {
        "id": "DBTFLD4tIA9m"
      },
      "execution_count": 86,
      "outputs": []
    },
    {
      "cell_type": "code",
      "source": [
        "model.compile(loss = tf.keras.losses.categorical_crossentropy,\n",
        "              metrics=[\"acc\"],optimizer = \"adam\")"
      ],
      "metadata": {
        "id": "VOt623G-R_6g"
      },
      "execution_count": 87,
      "outputs": []
    },
    {
      "cell_type": "code",
      "source": [
        "model.summary()"
      ],
      "metadata": {
        "colab": {
          "base_uri": "https://localhost:8080/"
        },
        "id": "Q_I_zIZQTA0U",
        "outputId": "606372d4-c869-4521-c740-0e2e2df19b3d"
      },
      "execution_count": 89,
      "outputs": [
        {
          "output_type": "stream",
          "name": "stdout",
          "text": [
            "Model: \"sequential\"\n",
            "_________________________________________________________________\n",
            " Layer (type)                Output Shape              Param #   \n",
            "=================================================================\n",
            " embedding (Embedding)       (None, 23, 128)           256000    \n",
            "                                                                 \n",
            " lstm (LSTM)                 (None, 128)               131584    \n",
            "                                                                 \n",
            " dense (Dense)               (None, 3)                 387       \n",
            "                                                                 \n",
            "=================================================================\n",
            "Total params: 387,971\n",
            "Trainable params: 387,971\n",
            "Non-trainable params: 0\n",
            "_________________________________________________________________\n"
          ]
        }
      ]
    },
    {
      "cell_type": "code",
      "source": [
        "df.sentiment"
      ],
      "metadata": {
        "colab": {
          "base_uri": "https://localhost:8080/"
        },
        "id": "AP1q2E99TCk0",
        "outputId": "781ef831-f7ff-4d53-ae35-52aaab12de54"
      },
      "execution_count": 91,
      "outputs": [
        {
          "output_type": "execute_result",
          "data": {
            "text/plain": [
              "0         Neutral\n",
              "1        Positive\n",
              "2         Neutral\n",
              "3        Positive\n",
              "4        Positive\n",
              "           ...   \n",
              "13866    Negative\n",
              "13867    Positive\n",
              "13868    Positive\n",
              "13869    Negative\n",
              "13870    Positive\n",
              "Name: sentiment, Length: 13871, dtype: object"
            ]
          },
          "metadata": {},
          "execution_count": 91
        }
      ]
    },
    {
      "cell_type": "code",
      "source": [
        "Y = pd.get_dummies(df.sentiment)"
      ],
      "metadata": {
        "id": "DD_aVn-vTJYJ"
      },
      "execution_count": 92,
      "outputs": []
    },
    {
      "cell_type": "code",
      "source": [
        "Y"
      ],
      "metadata": {
        "colab": {
          "base_uri": "https://localhost:8080/",
          "height": 423
        },
        "id": "8pzhgzxjTYrS",
        "outputId": "58a0dae5-0e97-41dc-d60e-d09ff9b18d3a"
      },
      "execution_count": 94,
      "outputs": [
        {
          "output_type": "execute_result",
          "data": {
            "text/plain": [
              "       Negative  Neutral  Positive\n",
              "0             0        1         0\n",
              "1             0        0         1\n",
              "2             0        1         0\n",
              "3             0        0         1\n",
              "4             0        0         1\n",
              "...         ...      ...       ...\n",
              "13866         1        0         0\n",
              "13867         0        0         1\n",
              "13868         0        0         1\n",
              "13869         1        0         0\n",
              "13870         0        0         1\n",
              "\n",
              "[13871 rows x 3 columns]"
            ],
            "text/html": [
              "\n",
              "  <div id=\"df-877739a6-ec58-48ef-b9eb-3512970d79b3\">\n",
              "    <div class=\"colab-df-container\">\n",
              "      <div>\n",
              "<style scoped>\n",
              "    .dataframe tbody tr th:only-of-type {\n",
              "        vertical-align: middle;\n",
              "    }\n",
              "\n",
              "    .dataframe tbody tr th {\n",
              "        vertical-align: top;\n",
              "    }\n",
              "\n",
              "    .dataframe thead th {\n",
              "        text-align: right;\n",
              "    }\n",
              "</style>\n",
              "<table border=\"1\" class=\"dataframe\">\n",
              "  <thead>\n",
              "    <tr style=\"text-align: right;\">\n",
              "      <th></th>\n",
              "      <th>Negative</th>\n",
              "      <th>Neutral</th>\n",
              "      <th>Positive</th>\n",
              "    </tr>\n",
              "  </thead>\n",
              "  <tbody>\n",
              "    <tr>\n",
              "      <th>0</th>\n",
              "      <td>0</td>\n",
              "      <td>1</td>\n",
              "      <td>0</td>\n",
              "    </tr>\n",
              "    <tr>\n",
              "      <th>1</th>\n",
              "      <td>0</td>\n",
              "      <td>0</td>\n",
              "      <td>1</td>\n",
              "    </tr>\n",
              "    <tr>\n",
              "      <th>2</th>\n",
              "      <td>0</td>\n",
              "      <td>1</td>\n",
              "      <td>0</td>\n",
              "    </tr>\n",
              "    <tr>\n",
              "      <th>3</th>\n",
              "      <td>0</td>\n",
              "      <td>0</td>\n",
              "      <td>1</td>\n",
              "    </tr>\n",
              "    <tr>\n",
              "      <th>4</th>\n",
              "      <td>0</td>\n",
              "      <td>0</td>\n",
              "      <td>1</td>\n",
              "    </tr>\n",
              "    <tr>\n",
              "      <th>...</th>\n",
              "      <td>...</td>\n",
              "      <td>...</td>\n",
              "      <td>...</td>\n",
              "    </tr>\n",
              "    <tr>\n",
              "      <th>13866</th>\n",
              "      <td>1</td>\n",
              "      <td>0</td>\n",
              "      <td>0</td>\n",
              "    </tr>\n",
              "    <tr>\n",
              "      <th>13867</th>\n",
              "      <td>0</td>\n",
              "      <td>0</td>\n",
              "      <td>1</td>\n",
              "    </tr>\n",
              "    <tr>\n",
              "      <th>13868</th>\n",
              "      <td>0</td>\n",
              "      <td>0</td>\n",
              "      <td>1</td>\n",
              "    </tr>\n",
              "    <tr>\n",
              "      <th>13869</th>\n",
              "      <td>1</td>\n",
              "      <td>0</td>\n",
              "      <td>0</td>\n",
              "    </tr>\n",
              "    <tr>\n",
              "      <th>13870</th>\n",
              "      <td>0</td>\n",
              "      <td>0</td>\n",
              "      <td>1</td>\n",
              "    </tr>\n",
              "  </tbody>\n",
              "</table>\n",
              "<p>13871 rows × 3 columns</p>\n",
              "</div>\n",
              "      <button class=\"colab-df-convert\" onclick=\"convertToInteractive('df-877739a6-ec58-48ef-b9eb-3512970d79b3')\"\n",
              "              title=\"Convert this dataframe to an interactive table.\"\n",
              "              style=\"display:none;\">\n",
              "        \n",
              "  <svg xmlns=\"http://www.w3.org/2000/svg\" height=\"24px\"viewBox=\"0 0 24 24\"\n",
              "       width=\"24px\">\n",
              "    <path d=\"M0 0h24v24H0V0z\" fill=\"none\"/>\n",
              "    <path d=\"M18.56 5.44l.94 2.06.94-2.06 2.06-.94-2.06-.94-.94-2.06-.94 2.06-2.06.94zm-11 1L8.5 8.5l.94-2.06 2.06-.94-2.06-.94L8.5 2.5l-.94 2.06-2.06.94zm10 10l.94 2.06.94-2.06 2.06-.94-2.06-.94-.94-2.06-.94 2.06-2.06.94z\"/><path d=\"M17.41 7.96l-1.37-1.37c-.4-.4-.92-.59-1.43-.59-.52 0-1.04.2-1.43.59L10.3 9.45l-7.72 7.72c-.78.78-.78 2.05 0 2.83L4 21.41c.39.39.9.59 1.41.59.51 0 1.02-.2 1.41-.59l7.78-7.78 2.81-2.81c.8-.78.8-2.07 0-2.86zM5.41 20L4 18.59l7.72-7.72 1.47 1.35L5.41 20z\"/>\n",
              "  </svg>\n",
              "      </button>\n",
              "      \n",
              "  <style>\n",
              "    .colab-df-container {\n",
              "      display:flex;\n",
              "      flex-wrap:wrap;\n",
              "      gap: 12px;\n",
              "    }\n",
              "\n",
              "    .colab-df-convert {\n",
              "      background-color: #E8F0FE;\n",
              "      border: none;\n",
              "      border-radius: 50%;\n",
              "      cursor: pointer;\n",
              "      display: none;\n",
              "      fill: #1967D2;\n",
              "      height: 32px;\n",
              "      padding: 0 0 0 0;\n",
              "      width: 32px;\n",
              "    }\n",
              "\n",
              "    .colab-df-convert:hover {\n",
              "      background-color: #E2EBFA;\n",
              "      box-shadow: 0px 1px 2px rgba(60, 64, 67, 0.3), 0px 1px 3px 1px rgba(60, 64, 67, 0.15);\n",
              "      fill: #174EA6;\n",
              "    }\n",
              "\n",
              "    [theme=dark] .colab-df-convert {\n",
              "      background-color: #3B4455;\n",
              "      fill: #D2E3FC;\n",
              "    }\n",
              "\n",
              "    [theme=dark] .colab-df-convert:hover {\n",
              "      background-color: #434B5C;\n",
              "      box-shadow: 0px 1px 3px 1px rgba(0, 0, 0, 0.15);\n",
              "      filter: drop-shadow(0px 1px 2px rgba(0, 0, 0, 0.3));\n",
              "      fill: #FFFFFF;\n",
              "    }\n",
              "  </style>\n",
              "\n",
              "      <script>\n",
              "        const buttonEl =\n",
              "          document.querySelector('#df-877739a6-ec58-48ef-b9eb-3512970d79b3 button.colab-df-convert');\n",
              "        buttonEl.style.display =\n",
              "          google.colab.kernel.accessAllowed ? 'block' : 'none';\n",
              "\n",
              "        async function convertToInteractive(key) {\n",
              "          const element = document.querySelector('#df-877739a6-ec58-48ef-b9eb-3512970d79b3');\n",
              "          const dataTable =\n",
              "            await google.colab.kernel.invokeFunction('convertToInteractive',\n",
              "                                                     [key], {});\n",
              "          if (!dataTable) return;\n",
              "\n",
              "          const docLinkHtml = 'Like what you see? Visit the ' +\n",
              "            '<a target=\"_blank\" href=https://colab.research.google.com/notebooks/data_table.ipynb>data table notebook</a>'\n",
              "            + ' to learn more about interactive tables.';\n",
              "          element.innerHTML = '';\n",
              "          dataTable['output_type'] = 'display_data';\n",
              "          await google.colab.output.renderOutput(dataTable, element);\n",
              "          const docLink = document.createElement('div');\n",
              "          docLink.innerHTML = docLinkHtml;\n",
              "          element.appendChild(docLink);\n",
              "        }\n",
              "      </script>\n",
              "    </div>\n",
              "  </div>\n",
              "  "
            ]
          },
          "metadata": {},
          "execution_count": 94
        }
      ]
    },
    {
      "cell_type": "code",
      "source": [
        "model.fit(x_pad,Y,epochs = 5)"
      ],
      "metadata": {
        "colab": {
          "base_uri": "https://localhost:8080/"
        },
        "id": "vkVYv90kTfII",
        "outputId": "76c582ac-c620-49bc-c593-7b7a18803c31"
      },
      "execution_count": 95,
      "outputs": [
        {
          "output_type": "stream",
          "name": "stdout",
          "text": [
            "Epoch 1/5\n",
            "434/434 [==============================] - 27s 54ms/step - loss: 0.8006 - acc: 0.6523\n",
            "Epoch 2/5\n",
            "434/434 [==============================] - 22s 51ms/step - loss: 0.6696 - acc: 0.7133\n",
            "Epoch 3/5\n",
            "434/434 [==============================] - 23s 53ms/step - loss: 0.6229 - acc: 0.7299\n",
            "Epoch 4/5\n",
            "434/434 [==============================] - 24s 56ms/step - loss: 0.5891 - acc: 0.7432\n",
            "Epoch 5/5\n",
            "434/434 [==============================] - 24s 55ms/step - loss: 0.5517 - acc: 0.7629\n"
          ]
        },
        {
          "output_type": "execute_result",
          "data": {
            "text/plain": [
              "<keras.callbacks.History at 0x7f53c0487490>"
            ]
          },
          "metadata": {},
          "execution_count": 95
        }
      ]
    },
    {
      "cell_type": "code",
      "source": [],
      "metadata": {
        "id": "VxO2SNK3TvRi"
      },
      "execution_count": null,
      "outputs": []
    }
  ]
}